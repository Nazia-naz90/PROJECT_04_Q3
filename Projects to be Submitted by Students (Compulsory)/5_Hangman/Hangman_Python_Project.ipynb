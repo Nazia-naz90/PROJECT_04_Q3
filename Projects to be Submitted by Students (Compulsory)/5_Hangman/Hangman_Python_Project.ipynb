{
  "nbformat": 4,
  "nbformat_minor": 0,
  "metadata": {
    "colab": {
      "provenance": [],
      "authorship_tag": "ABX9TyOoHsPJR0eqTyaD6esXPwiL",
      "include_colab_link": true
    },
    "kernelspec": {
      "name": "python3",
      "display_name": "Python 3"
    },
    "language_info": {
      "name": "python"
    }
  },
  "cells": [
    {
      "cell_type": "markdown",
      "metadata": {
        "id": "view-in-github",
        "colab_type": "text"
      },
      "source": [
        "<a href=\"https://colab.research.google.com/github/Nazia-naz90/PROJECT_04_BY_nAZIA/blob/main/Hangman_Python_Project.ipynb\" target=\"_parent\"><img src=\"https://colab.research.google.com/assets/colab-badge.svg\" alt=\"Open In Colab\"/></a>"
      ]
    },
    {
      "cell_type": "markdown",
      "source": [
        "# Program: Hangman Python Project:"
      ],
      "metadata": {
        "id": "l165Ui6m4kxo"
      }
    },
    {
      "cell_type": "code",
      "source": [
        "import random\n",
        "\n",
        "words = [\"apple\", \"fruit\", \"ball\", \"toy\",  \"cat\",\"animal\", \"dog\", \"pet\",\"egg\",\"food\",\"fish\", \"swim\", \"goat\", \"farm\", \"hat\", \"wear\", \"ice\",\"cold\", \"jump\", \"move\", \"jump\", \"move\",   \"kite\", \"fly\",\"lion\", \"moon\", \"nest\", \"owl\", \"pen\",\"queen\", \"rain\", \"sun\",\"hot\",  \"tree\", \"plant\",  \"umbrella\",\n",
        "\"van\",\"vehicle\",\"water\", \"fox\",\"yarn\",\"zoo\",\n",
        "]\n",
        "\n",
        "word = random.choice(words)\n",
        "guessed_letters = []\n",
        "attempts = 7\n",
        "\n",
        "print(\"Welcome to hangman game project!\")\n",
        "print(\"_\" * len(word))\n",
        "\n",
        "while attempts > 0 :\n",
        "   guess = input(\"\\n Guess the letters:\").lower()\n",
        "\n",
        "   if len(guess) != 1 or not guess.isalpha():\n",
        "      print(\"Write one alphabet only!\")\n",
        "      continue\n",
        "   if guess in guessed_letters:\n",
        "      print(\"This letter is already guess. Choose another letter\")\n",
        "      continue\n",
        "   guessed_letters.append(guess)\n",
        "\n",
        "   if guess in word:\n",
        "      print(\"Correct guess!\")\n",
        "   else:\n",
        "       attempts -= 1\n",
        "       print(f\"Wrong {attempts} attempts.\")\n",
        "   displayed_word = \" \".join([letter if letter in guessed_letters else \"_\" for letter in word ])\n",
        "   print(displayed_word)\n",
        "\n",
        "   if \"_\" not in displayed_word:\n",
        "      print(f\"Congratulation! the correct word is : {word}\")\n",
        "      break\n",
        "else:\n",
        "    print(f\"Game Over! the correct word is: {word}\")\n"
      ],
      "metadata": {
        "colab": {
          "base_uri": "https://localhost:8080/"
        },
        "id": "vd8kKdSL4rqt",
        "outputId": "bc15fa86-9232-4512-be1a-8e22f974ee46"
      },
      "execution_count": 4,
      "outputs": [
        {
          "output_type": "stream",
          "name": "stdout",
          "text": [
            "Welcome to hangman game project!\n",
            "____\n",
            "\n",
            " Guess the letters:g\n",
            "Wrong 6 attempts.\n",
            "_ _ _ _\n",
            "\n",
            " Guess the letters:b\n",
            "Wrong 5 attempts.\n",
            "_ _ _ _\n",
            "\n",
            " Guess the letters:j\n",
            "Wrong 4 attempts.\n",
            "_ _ _ _\n",
            "\n",
            " Guess the letters:w\n",
            "Correct guess!\n",
            "_ w _ _\n",
            "\n",
            " Guess the letters:s\n",
            "Correct guess!\n",
            "s w _ _\n",
            "\n",
            " Guess the letters:i\n",
            "Correct guess!\n",
            "s w i _\n",
            "\n",
            " Guess the letters:m\n",
            "Correct guess!\n",
            "s w i m\n",
            "Congratulation! the correct word is : swim\n"
          ]
        }
      ]
    }
  ]
}