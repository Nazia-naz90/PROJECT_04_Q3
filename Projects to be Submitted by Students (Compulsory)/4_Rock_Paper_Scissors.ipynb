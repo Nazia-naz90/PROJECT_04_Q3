{
  "nbformat": 4,
  "nbformat_minor": 0,
  "metadata": {
    "colab": {
      "provenance": [],
      "authorship_tag": "ABX9TyPyehsPl0aSZ5dchV8h7IL0",
      "include_colab_link": true
    },
    "kernelspec": {
      "name": "python3",
      "display_name": "Python 3"
    },
    "language_info": {
      "name": "python"
    }
  },
  "cells": [
    {
      "cell_type": "markdown",
      "metadata": {
        "id": "view-in-github",
        "colab_type": "text"
      },
      "source": [
        "<a href=\"https://colab.research.google.com/github/Nazia-naz90/PROJECT_04_BY_nAZIA/blob/main/4_Rock_Paper_Scissors.ipynb\" target=\"_parent\"><img src=\"https://colab.research.google.com/assets/colab-badge.svg\" alt=\"Open In Colab\"/></a>"
      ]
    },
    {
      "cell_type": "markdown",
      "source": [
        "# Programe: Rock, paper, scissors Python"
      ],
      "metadata": {
        "id": "iq7SjbuAuq_e"
      }
    },
    {
      "cell_type": "code",
      "source": [
        "import random\n",
        "import math\n",
        "\n",
        "def play():\n",
        "    \"\"\"Handles a single round of Rock, Paper, Scissors.\"\"\"\n",
        "    user = input(\"\\nWhat's your choice? (r for Rock, p for Paper, s for Scissors): \").strip().lower()\n",
        "\n",
        "    while user not in ['r', 'p', 's']:\n",
        "        print(\"❌ Invalid choice! Please enter 'r', 'p', or 's'.\")\n",
        "        user = input(\"Try again: \").strip().lower()\n",
        "\n",
        "    computer = random.choice(['r', 'p', 's'])\n",
        "\n",
        "    if user == computer:\n",
        "        return (0, user, computer)\n",
        "\n",
        "    if is_win(user, computer):\n",
        "        return (1, user, computer)\n",
        "\n",
        "    return (-1, user, computer)\n",
        "\n",
        "def is_win(player, opponent):\n",
        "    \"\"\"Returns True if the player beats the opponent, else False.\"\"\"\n",
        "    winning_combinations = {'r': 's', 's': 'p', 'p': 'r'}\n",
        "    return winning_combinations[player] == opponent\n",
        "\n",
        "def play_best_of(n):\n",
        "    \"\"\"Plays a 'best of N' series until a winner is decided.\"\"\"\n",
        "    print(\"\\n🎮 Welcome to Rock, Paper, Scissors! 🎮\")\n",
        "    print(f\"First to win {math.ceil(n/2)} out of {n} games wins!\\n\")\n",
        "\n",
        "    player_wins = 0\n",
        "    computer_wins = 0\n",
        "    wins_necessary = math.ceil(n / 2)\n",
        "\n",
        "    while player_wins < wins_necessary and computer_wins < wins_necessary:\n",
        "        result, user, computer = play()\n",
        "\n",
        "        choices = {'r': 'Rock', 'p': 'Paper', 's': 'Scissors'}\n",
        "        user_choice = choices[user]\n",
        "        computer_choice = choices[computer]\n",
        "\n",
        "        if result == 0:\n",
        "            print(f\"🤝 It's a tie! You both chose {user_choice}.\\n\")\n",
        "        elif result == 1:\n",
        "            player_wins += 1\n",
        "            print(f\"✅ You win! {user_choice} beats {computer_choice}.\\n\")\n",
        "        else:\n",
        "            computer_wins += 1\n",
        "            print(f\"❌ You lose! {computer_choice} beats {user_choice}.\\n\")\n",
        "\n",
        "        print(f\"🏆 Score: You {player_wins} | Computer {computer_wins}\\n\")\n",
        "\n",
        "    if player_wins > computer_wins:\n",
        "        print(f\"🎉 Congratulations! You won the best of {n} games! 🏆\")\n",
        "    else:\n",
        "        print(f\"😞 The computer won the best of {n} games. Better luck next time!\")\n",
        "\n",
        "    # Ask if the user wants to play again\n",
        "    play_again = input(\"\\nWould you like to play again? (yes/no): \").strip().lower()\n",
        "    if play_again == 'yes':\n",
        "        play_best_of(n)\n",
        "    else:\n",
        "        print(\"\\nThanks for playing! See you next time. 😊\")\n",
        "\n",
        "# Run the game with best of 3\n",
        "if __name__ == \"__main__\":\n",
        "    play_best_of(3)"
      ],
      "metadata": {
        "colab": {
          "base_uri": "https://localhost:8080/"
        },
        "id": "MNEROM7P9Ax5",
        "outputId": "f64c298d-93f5-4e27-c387-36ceb25b2ec9"
      },
      "execution_count": 3,
      "outputs": [
        {
          "output_type": "stream",
          "name": "stdout",
          "text": [
            "\n",
            "🎮 Welcome to Rock, Paper, Scissors! 🎮\n",
            "First to win 2 out of 3 games wins!\n",
            "\n",
            "\n",
            "What's your choice? (r for Rock, p for Paper, s for Scissors): r\n",
            "🤝 It's a tie! You both chose Rock.\n",
            "\n",
            "🏆 Score: You 0 | Computer 0\n",
            "\n",
            "\n",
            "What's your choice? (r for Rock, p for Paper, s for Scissors): r\n",
            "✅ You win! Rock beats Scissors.\n",
            "\n",
            "🏆 Score: You 1 | Computer 0\n",
            "\n",
            "\n",
            "What's your choice? (r for Rock, p for Paper, s for Scissors): p\n",
            "❌ You lose! Scissors beats Paper.\n",
            "\n",
            "🏆 Score: You 1 | Computer 1\n",
            "\n",
            "\n",
            "What's your choice? (r for Rock, p for Paper, s for Scissors): s\n",
            "🤝 It's a tie! You both chose Scissors.\n",
            "\n",
            "🏆 Score: You 1 | Computer 1\n",
            "\n",
            "\n",
            "What's your choice? (r for Rock, p for Paper, s for Scissors): r\n",
            "❌ You lose! Paper beats Rock.\n",
            "\n",
            "🏆 Score: You 1 | Computer 2\n",
            "\n",
            "😞 The computer won the best of 3 games. Better luck next time!\n",
            "\n",
            "Would you like to play again? (yes/no): r\n",
            "\n",
            "Thanks for playing! See you next time. 😊\n"
          ]
        }
      ]
    }
  ]
}