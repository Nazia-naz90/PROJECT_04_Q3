{
  "nbformat": 4,
  "nbformat_minor": 0,
  "metadata": {
    "colab": {
      "provenance": [],
      "authorship_tag": "ABX9TyONlKto2cZc6TkpfQ4jdBDe",
      "include_colab_link": true
    },
    "kernelspec": {
      "name": "python3",
      "display_name": "Python 3"
    },
    "language_info": {
      "name": "python"
    }
  },
  "cells": [
    {
      "cell_type": "markdown",
      "metadata": {
        "id": "view-in-github",
        "colab_type": "text"
      },
      "source": [
        "<a href=\"https://colab.research.google.com/github/Nazia-naz90/PROJECT_04_BY_nAZIA/blob/main/03_leap_year.ipynb\" target=\"_parent\"><img src=\"https://colab.research.google.com/assets/colab-badge.svg\" alt=\"Open In Colab\"/></a>"
      ]
    },
    {
      "cell_type": "markdown",
      "source": [
        "# Program: leap_year_checker"
      ],
      "metadata": {
        "id": "WBszqHOUeVkq"
      }
    },
    {
      "cell_type": "code",
      "source": [
        "def is_leap_year(year: int) -> bool:\n",
        "    \"\"\"\n",
        "    Determines if a given year is a leap year based on the Gregorian calendar rules.\n",
        "\n",
        "    A leap year:\n",
        "    - Must be divisible by 4\n",
        "    - If divisible by 100, it must also be divisible by 400\n",
        "    \"\"\"\n",
        "    return (year % 4 == 0 and year % 100 != 0) or (year % 400 == 0)\n",
        "\n",
        "def main():\n",
        "    \"\"\"Main function to handle user input and check leap year status\"\"\"\n",
        "    print(\"📅 Welcome to the Leap Year Checker! 📅\\n\")\n",
        "\n",
        "    while True:\n",
        "        # Get user input and validate it\n",
        "        while True:\n",
        "            try:\n",
        "                year = int(input(\"🔹 Enter a year to check if it's a leap year: \"))\n",
        "                if year >= 0:\n",
        "                    break\n",
        "                print(\"🚨 Please enter a valid positive year.\")\n",
        "            except ValueError:\n",
        "                print(\"❌ Invalid input! Please enter a numeric year.\")\n",
        "\n",
        "        # Check and display result\n",
        "        if is_leap_year(year):\n",
        "            print(f\"✅ {year} is a Leap Year! 🎉\\n\")\n",
        "        else:\n",
        "            print(f\"❌ {year} is NOT a Leap Year.\\n\")\n",
        "\n",
        "        # Ask user if they want to check another year\n",
        "        while True:\n",
        "            restart = input(\"🔄 Would you like to check another year? (yes/y or no/n): \").strip().lower()\n",
        "            if restart in [\"yes\", \"y\"]:\n",
        "                print(\"\\n🔁 Restarting the program...\\n\")\n",
        "                break\n",
        "            elif restart in [\"no\", \"n\"]:\n",
        "                print(\"\\n🎉 Thank you for using the Leap Year Checker! Have a great day! 😊\")\n",
        "                return\n",
        "            print(\"⚠️ Invalid choice! Please enter 'yes' or 'no'.\")\n",
        "\n",
        "if __name__ == \"__main__\":\n",
        "    main()"
      ],
      "metadata": {
        "colab": {
          "base_uri": "https://localhost:8080/"
        },
        "id": "Z9URBDb-z7wF",
        "outputId": "a7491d7c-63fe-4f79-a5ea-039582a943ca"
      },
      "execution_count": null,
      "outputs": [
        {
          "output_type": "stream",
          "name": "stdout",
          "text": [
            "📅 Welcome to the Leap Year Checker! 📅\n",
            "\n",
            "🔹 Enter a year to check if it's a leap year: 2024\n",
            "✅ 2024 is a Leap Year! 🎉\n",
            "\n",
            "🔄 Would you like to check another year? (yes/y or no/n): y\n",
            "\n",
            "🔁 Restarting the program...\n",
            "\n",
            "🔹 Enter a year to check if it's a leap year: 2025\n",
            "❌ 2025 is NOT a Leap Year.\n",
            "\n",
            "🔄 Would you like to check another year? (yes/y or no/n): y\n",
            "\n",
            "🔁 Restarting the program...\n",
            "\n",
            "🔹 Enter a year to check if it's a leap year: 1984\n",
            "✅ 1984 is a Leap Year! 🎉\n",
            "\n",
            "🔄 Would you like to check another year? (yes/y or no/n): y\n",
            "\n",
            "🔁 Restarting the program...\n",
            "\n",
            "🔹 Enter a year to check if it's a leap year: 1985\n",
            "❌ 1985 is NOT a Leap Year.\n",
            "\n",
            "🔄 Would you like to check another year? (yes/y or no/n): y\n",
            "\n",
            "🔁 Restarting the program...\n",
            "\n",
            "🔹 Enter a year to check if it's a leap year: 2000\n",
            "✅ 2000 is a Leap Year! 🎉\n",
            "\n",
            "🔄 Would you like to check another year? (yes/y or no/n): y\n",
            "\n",
            "🔁 Restarting the program...\n",
            "\n",
            "🔹 Enter a year to check if it's a leap year: 2010\n",
            "❌ 2010 is NOT a Leap Year.\n",
            "\n",
            "🔄 Would you like to check another year? (yes/y or no/n): n\n",
            "\n",
            "🎉 Thank you for using the Leap Year Checker! Have a great day! 😊\n"
          ]
        }
      ]
    }
  ]
}