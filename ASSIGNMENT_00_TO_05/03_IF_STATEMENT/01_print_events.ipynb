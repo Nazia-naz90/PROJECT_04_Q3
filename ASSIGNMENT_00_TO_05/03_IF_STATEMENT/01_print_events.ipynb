{
  "nbformat": 4,
  "nbformat_minor": 0,
  "metadata": {
    "colab": {
      "provenance": [],
      "authorship_tag": "ABX9TyOfLyhTKLk2ZGEkUyIMSQbs",
      "include_colab_link": true
    },
    "kernelspec": {
      "name": "python3",
      "display_name": "Python 3"
    },
    "language_info": {
      "name": "python"
    }
  },
  "cells": [
    {
      "cell_type": "markdown",
      "metadata": {
        "id": "view-in-github",
        "colab_type": "text"
      },
      "source": [
        "<a href=\"https://colab.research.google.com/github/Nazia-naz90/PROJECT_04_BY_nAZIA/blob/main/01_print_events.ipynb\" target=\"_parent\"><img src=\"https://colab.research.google.com/assets/colab-badge.svg\" alt=\"Open In Colab\"/></a>"
      ]
    },
    {
      "cell_type": "markdown",
      "source": [
        "# Program: even_numbers"
      ],
      "metadata": {
        "id": "ywbtHsJQg01t"
      }
    },
    {
      "cell_type": "code",
      "source": [
        "print(\"🔢 First 20 Even Numbers Generator 🔢\\n\")\n",
        "\n",
        "def generate_even_numbers(n:int):\n",
        "     \"\"\"\n",
        "    Generates and prints the first 'n' even numbers using a loop.\n",
        "\n",
        "    Parameters:\n",
        "        n (int): Number of even numbers to generate.\n",
        "    \"\"\"\n",
        "     even_numbers = [i * 2 for i in range(n)]\n",
        "# even_numbers = [i * 2 for i in range(n)] # Using list comprehension for efficiency\n",
        "     print(\" \".join(map(str,even_numbers))) # Printing numbers in a single line\n",
        "\n",
        "def main():\n",
        "    total_numbers = 20 # Set requirement to print first 20 even numbers\n",
        "    generate_even_numbers(total_numbers)\n",
        "\n",
        "\n",
        "if __name__ == \"__main__\":\n",
        "  main()"
      ],
      "metadata": {
        "colab": {
          "base_uri": "https://localhost:8080/"
        },
        "id": "HUdwyg2Vg8Ea",
        "outputId": "0964ada4-44f4-4791-b735-20c519cc87db"
      },
      "execution_count": 4,
      "outputs": [
        {
          "output_type": "stream",
          "name": "stdout",
          "text": [
            "🔢 First 20 Even Numbers Generator 🔢\n",
            "\n",
            "0 2 4 6 8 10 12 14 16 18 20 22 24 26 28 30 32 34 36 38\n"
          ]
        }
      ]
    }
  ]
}