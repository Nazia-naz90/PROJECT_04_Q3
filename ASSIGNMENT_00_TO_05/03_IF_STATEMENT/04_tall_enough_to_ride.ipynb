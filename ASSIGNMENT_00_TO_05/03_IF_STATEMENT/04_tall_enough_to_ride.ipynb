{
  "nbformat": 4,
  "nbformat_minor": 0,
  "metadata": {
    "colab": {
      "provenance": [],
      "authorship_tag": "ABX9TyMCb1qUKjSpwNHQf0IQs5EL",
      "include_colab_link": true
    },
    "kernelspec": {
      "name": "python3",
      "display_name": "Python 3"
    },
    "language_info": {
      "name": "python"
    }
  },
  "cells": [
    {
      "cell_type": "markdown",
      "metadata": {
        "id": "view-in-github",
        "colab_type": "text"
      },
      "source": [
        "<a href=\"https://colab.research.google.com/github/Nazia-naz90/PROJECT_04_BY_nAZIA/blob/main/04_tall_enough_to_ride.ipynb\" target=\"_parent\"><img src=\"https://colab.research.google.com/assets/colab-badge.svg\" alt=\"Open In Colab\"/></a>"
      ]
    },
    {
      "cell_type": "markdown",
      "source": [
        "# Program: ride_eligibility_checker"
      ],
      "metadata": {
        "id": "G9J2SPdo2B2y"
      }
    },
    {
      "cell_type": "code",
      "source": [
        "def check_height(height:float) -> str:\n",
        "    \"\"\"Function to check if the user is tall enough to ride.\"\"\"\n",
        "    MINIMUM_HEIGHT:int = 50 # Minimum height for riding in arbitrary units\n",
        "\n",
        "    # Compare height with mimum height requirment\n",
        "    if height >= MINIMUM_HEIGHT:\n",
        "        return \"✅ You're tall enough to ride!\"\n",
        "    else:\n",
        "        return \"❌ You're not tall enough to ride, but maybe next year!\"\n",
        "\n",
        "\n",
        "def main():\n",
        "     \"\"\"Main function to handle user input and print results\"\"\"\n",
        "     print(\"🎢 Welcome to the Amusement Park Ride Eligibility Checker! 🎢\")\n",
        "\n",
        "     while True:\n",
        "         try:\n",
        "            # Ask for the user's height\n",
        "            height_input = input(\"/n 🔹 How tall is the person? (Enter height in cm or press Enter to quit):\")\n",
        "\n",
        "            # If user presses enter without entering a height , exit the loop\n",
        "            if height_input == \"\":\n",
        "                print(\"👋 Thank you for using the ride eligibility checker! Have a great day!\")\n",
        "                break\n",
        "\n",
        "            # Convert the height to float\n",
        "            height = float(height_input)\n",
        "\n",
        "            # Check if the user is tall enough\n",
        "            result = check_height(height)\n",
        "            print(result)\n",
        "\n",
        "            # Ask if they want to check another person\n",
        "            while True:\n",
        "                another_check = input(\"\\n 🔄 Would you like to check another person's height? (yes or no):\").strip().lower()\n",
        "                if another_check in [\"yes\", \"y\"]:\n",
        "                   break # Restart the loop for a new person\n",
        "                elif another_check in [\"no\", \"n\"]:\n",
        "                    print(\"👋 Thank you for using the ride eligibility checker! Have a great day!\")\n",
        "                    return # Exit the Program\n",
        "                else:\n",
        "                    print(\"❌ Invalid input! Please enter 'yes/y' or 'no/n'.\")\n",
        "\n",
        "         except ValueError:\n",
        "           print(\"❌ Invalid input! Please enter a valid number for height.\")\n",
        "\n",
        "if __name__ == \"__main__\":\n",
        "    main()\n",
        "\n",
        "\n"
      ],
      "metadata": {
        "colab": {
          "base_uri": "https://localhost:8080/"
        },
        "id": "JtaQfVQa2Gnu",
        "outputId": "aef2f535-8fc7-4971-8d75-d95447a7dd5b"
      },
      "execution_count": 3,
      "outputs": [
        {
          "output_type": "stream",
          "name": "stdout",
          "text": [
            "🎢 Welcome to the Amusement Park Ride Eligibility Checker! 🎢\n",
            "/n 🔹 How tall is the person? (Enter height in cm or press Enter to quit):30\n",
            "❌ You're not tall enough to ride, but maybe next year!\n",
            "\n",
            " 🔄 Would you like to check another person's height? (yes or no):y\n",
            "/n 🔹 How tall is the person? (Enter height in cm or press Enter to quit):40\n",
            "❌ You're not tall enough to ride, but maybe next year!\n",
            "\n",
            " 🔄 Would you like to check another person's height? (yes or no):75\n",
            "❌ Invalid input! Please enter 'yes/y' or 'no/n'.\n",
            "\n",
            " 🔄 Would you like to check another person's height? (yes or no):100\n",
            "❌ Invalid input! Please enter 'yes/y' or 'no/n'.\n",
            "\n",
            " 🔄 Would you like to check another person's height? (yes or no):y\n",
            "/n 🔹 How tall is the person? (Enter height in cm or press Enter to quit):100\n",
            "✅ You're tall enough to ride!\n",
            "\n",
            " 🔄 Would you like to check another person's height? (yes or no):n\n",
            "👋 Thank you for using the ride eligibility checker! Have a great day!\n"
          ]
        }
      ]
    }
  ]
}