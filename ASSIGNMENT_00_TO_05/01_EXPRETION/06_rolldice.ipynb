{
  "nbformat": 4,
  "nbformat_minor": 0,
  "metadata": {
    "colab": {
      "provenance": [],
      "authorship_tag": "ABX9TyMSzWoT4USSVwlb583J2AfO",
      "include_colab_link": true
    },
    "kernelspec": {
      "name": "python3",
      "display_name": "Python 3"
    },
    "language_info": {
      "name": "python"
    }
  },
  "cells": [
    {
      "cell_type": "markdown",
      "metadata": {
        "id": "view-in-github",
        "colab_type": "text"
      },
      "source": [
        "<a href=\"https://colab.research.google.com/github/Nazia-naz90/PROJECT_04_BY_nAZIA/blob/main/06_rolldice.ipynb\" target=\"_parent\"><img src=\"https://colab.research.google.com/assets/colab-badge.svg\" alt=\"Open In Colab\"/></a>"
      ]
    },
    {
      "cell_type": "markdown",
      "source": [
        "# Program: rolldice"
      ],
      "metadata": {
        "id": "qO3-gQ7O0Lu3"
      }
    },
    {
      "cell_type": "code",
      "source": [
        "import random\n",
        "\n",
        "print(\"🎲Welcome to the Roll Dice Simulator!🎲\")\n",
        "print(\"Get ready to roll two dice and see the results. Let's begin!\\n \")\n",
        "\n",
        "def roll_dice():\n",
        "    \"\"\"Simulate rolling two dice and print the results.\"\"\"\n",
        "    NUM_SIDES =6 # Defining number of sides on each die\n",
        "\n",
        "    while True: # Loop to allow rerolling\n",
        "        die1 = random.randint(1,NUM_SIDES)\n",
        "        die2= random.randint(1,NUM_SIDES)\n",
        "        total = die1 + die2\n",
        "\n",
        "        print(f\"\\n🎲 First die: {die1}\")\n",
        "        print(f\"🎲 Second die: {die2}\")\n",
        "        print(f\"🔢 Total of two dice: {total} \\n\")\n",
        "\n",
        "        # Ask user if they want to roll again\n",
        "        choice = input(\"Do you want to  roll again? (yes or no):\").strip().lower()\n",
        "        if choice not in [\"yes\",\"y\"]:\n",
        "            print(\"🎲 Thanks for playing ! Goodbye ! 👋\")\n",
        "            break # Exit the loop\n",
        "\n",
        "\n",
        "if __name__ == \"__main__\":\n",
        "    roll_dice()\n"
      ],
      "metadata": {
        "colab": {
          "base_uri": "https://localhost:8080/"
        },
        "id": "SEqY-Pky0TIM",
        "outputId": "a6f84ea9-a1c6-48f7-b57c-205cbfcae8cc"
      },
      "execution_count": 3,
      "outputs": [
        {
          "output_type": "stream",
          "name": "stdout",
          "text": [
            "🎲Welcome to the Roll Dice Simulator!🎲\n",
            "Get ready to roll two dice and see the results. Let's begin!\n",
            " \n",
            "\n",
            "🎲 First die: 1\n",
            "🎲 Second die: 1\n",
            "🔢 Total of two dice: 2 \n",
            "\n",
            "Do you want to  roll again? (yes or no):y\n",
            "\n",
            "🎲 First die: 6\n",
            "🎲 Second die: 1\n",
            "🔢 Total of two dice: 7 \n",
            "\n",
            "Do you want to  roll again? (yes or no):y\n",
            "\n",
            "🎲 First die: 1\n",
            "🎲 Second die: 1\n",
            "🔢 Total of two dice: 2 \n",
            "\n",
            "Do you want to  roll again? (yes or no):y\n",
            "\n",
            "🎲 First die: 4\n",
            "🎲 Second die: 4\n",
            "🔢 Total of two dice: 8 \n",
            "\n",
            "Do you want to  roll again? (yes or no):y\n",
            "\n",
            "🎲 First die: 1\n",
            "🎲 Second die: 4\n",
            "🔢 Total of two dice: 5 \n",
            "\n",
            "Do you want to  roll again? (yes or no):y\n",
            "\n",
            "🎲 First die: 4\n",
            "🎲 Second die: 6\n",
            "🔢 Total of two dice: 10 \n",
            "\n",
            "Do you want to  roll again? (yes or no):y\n",
            "\n",
            "🎲 First die: 2\n",
            "🎲 Second die: 4\n",
            "🔢 Total of two dice: 6 \n",
            "\n",
            "Do you want to  roll again? (yes or no):y\n",
            "\n",
            "🎲 First die: 5\n",
            "🎲 Second die: 6\n",
            "🔢 Total of two dice: 11 \n",
            "\n",
            "Do you want to  roll again? (yes or no):y\n",
            "\n",
            "🎲 First die: 4\n",
            "🎲 Second die: 5\n",
            "🔢 Total of two dice: 9 \n",
            "\n",
            "Do you want to  roll again? (yes or no):y\n",
            "\n",
            "🎲 First die: 1\n",
            "🎲 Second die: 1\n",
            "🔢 Total of two dice: 2 \n",
            "\n",
            "Do you want to  roll again? (yes or no):y\n",
            "\n",
            "🎲 First die: 5\n",
            "🎲 Second die: 3\n",
            "🔢 Total of two dice: 8 \n",
            "\n",
            "Do you want to  roll again? (yes or no):y\n",
            "\n",
            "🎲 First die: 1\n",
            "🎲 Second die: 4\n",
            "🔢 Total of two dice: 5 \n",
            "\n",
            "Do you want to  roll again? (yes or no):y\n",
            "\n",
            "🎲 First die: 1\n",
            "🎲 Second die: 5\n",
            "🔢 Total of two dice: 6 \n",
            "\n",
            "Do you want to  roll again? (yes or no):y\n",
            "\n",
            "🎲 First die: 2\n",
            "🎲 Second die: 3\n",
            "🔢 Total of two dice: 5 \n",
            "\n",
            "Do you want to  roll again? (yes or no):y\n",
            "\n",
            "🎲 First die: 4\n",
            "🎲 Second die: 2\n",
            "🔢 Total of two dice: 6 \n",
            "\n",
            "Do you want to  roll again? (yes or no):y\n",
            "\n",
            "🎲 First die: 5\n",
            "🎲 Second die: 2\n",
            "🔢 Total of two dice: 7 \n",
            "\n",
            "Do you want to  roll again? (yes or no):y\n",
            "\n",
            "🎲 First die: 3\n",
            "🎲 Second die: 5\n",
            "🔢 Total of two dice: 8 \n",
            "\n",
            "Do you want to  roll again? (yes or no):y\n",
            "\n",
            "🎲 First die: 6\n",
            "🎲 Second die: 2\n",
            "🔢 Total of two dice: 8 \n",
            "\n",
            "Do you want to  roll again? (yes or no):n\n",
            "🎲 Thanks for playing ! Goodbye ! 👋\n"
          ]
        }
      ]
    }
  ]
}