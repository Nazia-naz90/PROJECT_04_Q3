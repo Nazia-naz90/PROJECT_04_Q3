{
  "nbformat": 4,
  "nbformat_minor": 0,
  "metadata": {
    "colab": {
      "provenance": [],
      "authorship_tag": "ABX9TyPl3Q5Pm6y/U+auYh/oIBe9",
      "include_colab_link": true
    },
    "kernelspec": {
      "name": "python3",
      "display_name": "Python 3"
    },
    "language_info": {
      "name": "python"
    }
  },
  "cells": [
    {
      "cell_type": "markdown",
      "metadata": {
        "id": "view-in-github",
        "colab_type": "text"
      },
      "source": [
        "<a href=\"https://colab.research.google.com/github/Nazia-naz90/PROJECT_04_BY_nAZIA/blob/main/04_pythagorean_theorem.ipynb\" target=\"_parent\"><img src=\"https://colab.research.google.com/assets/colab-badge.svg\" alt=\"Open In Colab\"/></a>"
      ]
    },
    {
      "cell_type": "markdown",
      "source": [
        "## Program: pythagorean_calculator"
      ],
      "metadata": {
        "id": "6j0lFRnSbLBc"
      }
    },
    {
      "cell_type": "code",
      "source": [
        "import math\n",
        "\n",
        "def calculate_hypotenuse():\n",
        "    \"\"\"\n",
        "       This function prompts the user for the two perpendicular side lengths of a\n",
        "       right triangle and calculates the hypotenuse using the Pythagorean theorem.\n",
        "    \"\"\"\n",
        "    print(\"\\n📏 Pythagorean Theorem Calculator 📏\")\n",
        "\n",
        "    while True:\n",
        "          try:\n",
        "              # Get the two side lengths from the user\n",
        "              ab = float(input(\"🔹 Enter the length of side AB:\"))\n",
        "              ac = float(input(\"🔹 Enter the length of side AC:\"))\n",
        "\n",
        "              # Validate input: length should be positive\n",
        "              if ab <= 0 or ac <= 0:\n",
        "                  print(\"❌ Error: Side lengths must be positive numbers.Try again.\")\n",
        "                  continue\n",
        "\n",
        "              break # Exit loop if valid input\n",
        "\n",
        "          except ValueError:\n",
        "              print(\"❌ Error: Please enter a valid number.\")\n",
        "\n",
        "\n",
        "    # Compute the hypotenuse (BC) using the Pythagorean theorem\n",
        "    bc = math.sqrt(ab**2 + ac**2)\n",
        "\n",
        "    # Display result with 2 decimal places\n",
        "    print(f\"\\n✅ The length of BC (the hypotenuse) is: {bc:.2f} units.\\n\")\n",
        "\n",
        "def main():\n",
        "     \"\"\"Main function to run the program.\"\"\"\n",
        "     calculate_hypotenuse()\n",
        "\n",
        "     # Ask the user if they want another calculation\n",
        "\n",
        "     while True:\n",
        "         restart = input(\"🔄 Would you like to calculate another hypotenuse? (yes/no): \").strip().lower()\n",
        "         if restart in [\"yes\",\"y\"]:\n",
        "              calculate_hypotenuse()\n",
        "         elif restart in [\"no\",\"n\"]:\n",
        "            print(\"\\n ✅ Thank you for using the Pythagorean Theorem  Calculator! 🎯\")\n",
        "            break\n",
        "         else:\n",
        "             print('⚠️ Please enter \"yes\" or \"no\". ')\n",
        "\n",
        "# Run the program\n",
        "if __name__ == \"__main__\":\n",
        "    main()\n",
        "\n",
        "\n",
        "\n",
        ""
      ],
      "metadata": {
        "colab": {
          "base_uri": "https://localhost:8080/"
        },
        "id": "mK6v-UyMbSyQ",
        "outputId": "0574e00a-7873-4bb0-a786-8edf1c61d66c"
      },
      "execution_count": null,
      "outputs": [
        {
          "output_type": "stream",
          "name": "stdout",
          "text": [
            "\n",
            "📏 Pythagorean Theorem Calculator 📏\n",
            "🔹 Enter the length of side AB:10\n",
            "🔹 Enter the length of side AC:15\n",
            "\n",
            "✅ The length of BC (the hypotenuse) is: 18.03 units.\n",
            "\n",
            "🔄 Would you like to calculate another hypotenuse? (yes/no): y\n",
            "\n",
            "📏 Pythagorean Theorem Calculator 📏\n",
            "🔹 Enter the length of side AB:5\n",
            "🔹 Enter the length of side AC:10\n",
            "\n",
            "✅ The length of BC (the hypotenuse) is: 11.18 units.\n",
            "\n"
          ]
        }
      ]
    }
  ]
}