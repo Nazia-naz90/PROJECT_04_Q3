{
  "nbformat": 4,
  "nbformat_minor": 0,
  "metadata": {
    "colab": {
      "provenance": [],
      "authorship_tag": "ABX9TyMUiOyPegE5G4APXmJno1ac",
      "include_colab_link": true
    },
    "kernelspec": {
      "name": "python3",
      "display_name": "Python 3"
    },
    "language_info": {
      "name": "python"
    }
  },
  "cells": [
    {
      "cell_type": "markdown",
      "metadata": {
        "id": "view-in-github",
        "colab_type": "text"
      },
      "source": [
        "<a href=\"https://colab.research.google.com/github/Nazia-naz90/PROJECT_04_BY_nAZIA/blob/main/01_expressions.ipynb\" target=\"_parent\"><img src=\"https://colab.research.google.com/assets/colab-badge.svg\" alt=\"Open In Colab\"/></a>"
      ]
    },
    {
      "cell_type": "markdown",
      "source": [
        "# Program: DiceSimulator"
      ],
      "metadata": {
        "id": "pKTqm50xvSX2"
      }
    },
    {
      "cell_type": "code",
      "source": [
        "import random\n",
        "import time\n",
        "\n",
        "def roll_dice(num_sides: int = 6):\n",
        "    \"\"\"Simulates rolling two dice and print their total.\n",
        "       :param num_sides: Number of sides on each die (default is 6).\n",
        "    \"\"\"\n",
        "    die1: int = random.randint(1, num_sides)\n",
        "    die2: int = random.randint(1, num_sides)  # Fixed typo in 'randint' and operator\n",
        "    total: int = die1 + die2\n",
        "    print(f\"\\n🎲 Rolling the dice .... 🎲\")\n",
        "    time.sleep(1)  # Adding a delay for effect\n",
        "    print(f\"🎯 Die 1 : {die1} | 🎯 Die 2 : {die2}\")\n",
        "    print(f\"🎉 Total of two dice: {total}\")\n",
        "\n",
        "def main():\n",
        "    \"\"\"\n",
        "    Main function to simulate rolling dice three times.\n",
        "    \"\"\"\n",
        "    print(\"\\n🎩 Welcome to the Dice Simulator! 🎲\")\n",
        "\n",
        "    while True:\n",
        "        # Asking user if they want a custom dice size\n",
        "        try:\n",
        "            num_sides = int(input(\"\\nEnter number of sides for the dice (Press Enter for default 6): \") or 6)\n",
        "            if num_sides < 2:\n",
        "                print(\"⚠️ Dice must have at least 2 sides. Setting default (6).\")\n",
        "                num_sides = 6\n",
        "        except ValueError:\n",
        "            print(\"❌ Invalid input! Setting default (6).\")\n",
        "            num_sides = 6\n",
        "\n",
        "        print(\"\\n🎯 Rolling two dice, three times...\\n\")\n",
        "\n",
        "        for _ in range(3):\n",
        "            roll_dice(num_sides)  # Fixed typo in function name (should be roll_dice)\n",
        "\n",
        "        # Ask if the user wants to roll again\n",
        "        play_again = input(\"\\n🔄 Would you like to roll the dice again? (yes/no): \").strip().lower()\n",
        "        if play_again not in [\"yes\", \"y\"]:  # Added missing colon\n",
        "            print(\"\\n✅ Thanks for playing! Have a great day! 😊\")\n",
        "            break\n",
        "\n",
        "# Run the program\n",
        "if __name__ == \"__main__\":\n",
        "    main()"
      ],
      "metadata": {
        "colab": {
          "base_uri": "https://localhost:8080/"
        },
        "id": "2Ud9Annqvg5x",
        "outputId": "4bc96088-82bf-4b6e-f6c9-b631ab4dba83"
      },
      "execution_count": 4,
      "outputs": [
        {
          "output_type": "stream",
          "name": "stdout",
          "text": [
            "\n",
            "🎩 Welcome to the Dice Simulator! 🎲\n",
            "\n",
            "Enter number of sides for the dice (Press Enter for default 6): 6\n",
            "\n",
            "🎯 Rolling two dice, three times...\n",
            "\n",
            "\n",
            "🎲 Rolling the dice .... 🎲\n",
            "🎯 Die 1 : 1 | 🎯 Die 2 : 1\n",
            "🎉 Total of two dice: 2\n",
            "\n",
            "🎲 Rolling the dice .... 🎲\n",
            "🎯 Die 1 : 3 | 🎯 Die 2 : 1\n",
            "🎉 Total of two dice: 4\n",
            "\n",
            "🎲 Rolling the dice .... 🎲\n",
            "🎯 Die 1 : 6 | 🎯 Die 2 : 1\n",
            "🎉 Total of two dice: 7\n",
            "\n",
            "🔄 Would you like to roll the dice again? (yes/no): no\n",
            "\n",
            "✅ Thanks for playing! Have a great day! 😊\n"
          ]
        }
      ]
    }
  ]
}