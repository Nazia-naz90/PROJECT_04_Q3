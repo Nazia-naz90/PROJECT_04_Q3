{
  "nbformat": 4,
  "nbformat_minor": 0,
  "metadata": {
    "colab": {
      "provenance": [],
      "authorship_tag": "ABX9TyNFyTAndSyRfRzRuv0FVrP2",
      "include_colab_link": true
    },
    "kernelspec": {
      "name": "python3",
      "display_name": "Python 3"
    },
    "language_info": {
      "name": "python"
    }
  },
  "cells": [
    {
      "cell_type": "markdown",
      "metadata": {
        "id": "view-in-github",
        "colab_type": "text"
      },
      "source": [
        "<a href=\"https://colab.research.google.com/github/Nazia-naz90/PROJECT_04_BY_nAZIA/blob/main/03_feet_to_inches.ipynb\" target=\"_parent\"><img src=\"https://colab.research.google.com/assets/colab-badge.svg\" alt=\"Open In Colab\"/></a>"
      ]
    },
    {
      "cell_type": "markdown",
      "source": [
        "## Program: Feet to Inches Converter"
      ],
      "metadata": {
        "id": "ZzxrtxHtPC6j"
      }
    },
    {
      "cell_type": "code",
      "source": [
        "\"\"\"\n",
        "This program converts a given length in feet to inches.\n",
        "it correctly handled singular & plural forms in output.\n",
        "\n",
        "ConversionL1 foot = 12 inches\n",
        "\"\"\"\n",
        "\n",
        "# Define conversion factor as a constant\n",
        "INCHES_IN_FOOT: int = 12\n",
        "\n",
        "def convert_feet_to_inches():\n",
        "    \"\"\"Converts user input from feet to inches and displays the result.\"\"\"\n",
        "    while True:\n",
        "       try:\n",
        "          feet = float(input(\"\\n🔢 Enter the number of feet:\"))\n",
        "          if feet < 0 :\n",
        "             print(\"⚠️ Length cannot be negative. Please enter a positive number.\")\n",
        "             continue\n",
        "          break\n",
        "       except ValueError:\n",
        "           print(\"❌ Invalid input! Please enter a numerical value.\")\n",
        "    # Perform the conversion\n",
        "    inches = feet * INCHES_IN_FOOT\n",
        "\n",
        "    # Convert to int if the result is a whole number (e.g.,5.0 -> 5)\n",
        "    feet = int(feet) if feet.is_integer() else feet\n",
        "    inches = int(inches) if inches.is_integer() else inches\n",
        "\n",
        "\n",
        "    # Correctly handle singular & plural output\n",
        "    unit_feet = \"foot\" if feet == 1 else \"feet\"\n",
        "    unit_inches = \"inches\" if inches == 1 else \"inches\"\n",
        "\n",
        "    # Display result\n",
        "    print(f\"✅ {feet} {unit_feet} is equal to {inches} {unit_inches}.\")\n",
        "\n",
        "def main():\n",
        "     \"\"\"Main function to run the converter with an option to repeat.\"\"\"\n",
        "     print(\"\\n📏 Welcome to the Feet to Inches Converter! 📏\")\n",
        "\n",
        "     while True:\n",
        "        convert_feet_to_inches()\n",
        "\n",
        "        # Ask the user if they want another conversion\n",
        "        restart = input(\"\\n🔄 Would you like to convert another value? (yes/no): \").strip().lower()\n",
        "        if restart not in [\"yes\",\"y\"]:\n",
        "            print(\"\\n✅ Thank you for using the converter! Have a great day! 😊\")\n",
        "            break\n",
        "\n",
        "# Run the Program\n",
        "if __name__ == \"__main__\":\n",
        "    main()\n",
        "\n"
      ],
      "metadata": {
        "colab": {
          "base_uri": "https://localhost:8080/"
        },
        "id": "FnWWitBDPJgK",
        "outputId": "1bcf2517-f06e-45ff-f10a-d30421e4ce16"
      },
      "execution_count": 5,
      "outputs": [
        {
          "output_type": "stream",
          "name": "stdout",
          "text": [
            "\n",
            "📏 Welcome to the Feet to Inches Converter! 📏\n",
            "\n",
            "🔢 Enter the number of feet:5\n",
            "✅ 5 feet is equal to 60 inches.\n",
            "\n",
            "🔄 Would you like to convert another value? (yes/no): yes\n",
            "\n",
            "🔢 Enter the number of feet:20\n",
            "✅ 20 feet is equal to 240 inches.\n",
            "\n",
            "🔄 Would you like to convert another value? (yes/no): n\n",
            "\n",
            "✅ Thank you for using the converter! Have a great day! 😊\n"
          ]
        }
      ]
    }
  ]
}