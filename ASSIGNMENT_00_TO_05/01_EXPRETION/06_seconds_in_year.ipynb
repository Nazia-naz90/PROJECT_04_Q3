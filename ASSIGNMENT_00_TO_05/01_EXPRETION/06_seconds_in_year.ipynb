{
  "nbformat": 4,
  "nbformat_minor": 0,
  "metadata": {
    "colab": {
      "provenance": [],
      "authorship_tag": "ABX9TyNkGUYvl0WmKS2rv+iuPpPU",
      "include_colab_link": true
    },
    "kernelspec": {
      "name": "python3",
      "display_name": "Python 3"
    },
    "language_info": {
      "name": "python"
    }
  },
  "cells": [
    {
      "cell_type": "markdown",
      "metadata": {
        "id": "view-in-github",
        "colab_type": "text"
      },
      "source": [
        "<a href=\"https://colab.research.google.com/github/Nazia-naz90/PROJECT_04_BY_nAZIA/blob/main/06_seconds_in_year.ipynb\" target=\"_parent\"><img src=\"https://colab.research.google.com/assets/colab-badge.svg\" alt=\"Open In Colab\"/></a>"
      ]
    },
    {
      "cell_type": "markdown",
      "source": [
        "## Program: Seconds in a Year Calculator"
      ],
      "metadata": {
        "id": "L8gZIR5b5tZe"
      }
    },
    {
      "cell_type": "code",
      "source": [
        "\"\"\"\n",
        "This program calculates the number of seconds in a year\n",
        "by multiplying days, hours, minutes, and seconds.\n",
        "\n",
        "It also provides an option to calculate seconds for a leap year (366 days).\n",
        "\"\"\"\n",
        "\n",
        "# Constants\n",
        "DAYS_IN_YEAR: int = 365\n",
        "DAYS_IN_LEAP_YEAR:int = 366\n",
        "HOURS_PER_DAY:int = 24\n",
        "MINUTES_PER_HOUR: int = 60\n",
        "SECONDS_PER_MINUTE: int = 60\n",
        "\n",
        "def calculate_seconds(days:int) -> int:\n",
        "\n",
        "    \"\"\"Calculates the total number of seconds in the given number of days.\"\"\"\n",
        "    return days * HOURS_PER_DAY * MINUTES_PER_HOUR * SECONDS_PER_MINUTE\n",
        "\n",
        "def main():\n",
        "    \"\"\"Main function to calculate seconds in a normal or leap year.\"\"\"\n",
        "    print(\"\\n⏳ Welcome to the Seconds in a Year Calculator! ⏳\")\n",
        "\n",
        "\n",
        "    while True:\n",
        "          # Ask the user if they want normal year or leap year\n",
        "          choice = input(\"\\n  Do you want to calculate for a normal year (365 days) or a leap year (366 days)? (normal/leap):\").strip().lower()\n",
        "\n",
        "          if choice == \"leap\":\n",
        "             total_seconds = calculate_seconds(DAYS_IN_LEAP_YEAR)\n",
        "             print(f\"\\n✅ There are {total_seconds:,} seconds in a leap year! 🌟\")\n",
        "          elif choice == \"normal\":\n",
        "             total_seconds = calculate_seconds(DAYS_IN_YEAR)\n",
        "             print(f\"\\n ✅ There are {total_seconds:,} seconds in a normal year! 🕒\")\n",
        "\n",
        "          else:\n",
        "              print(\"❌ Invalid choice! Please enter 'normal' or 'leap'\")\n",
        "              continue # Ask again if invalid\n",
        "\n",
        "          # Ask user if they want to calculate again\n",
        "          restart = input(\"\\n 🔄 Would you like to calculate again? (yes/y or no/n):\").strip().lower()\n",
        "          if restart not in [\"yes\",\"y\"]:\n",
        "              print(\"\\n 👋 Thank you for using the calculator! Have a great day! 😊\")\n",
        "              break # Exit the loop\n",
        "\n",
        "# Run the program\n",
        "if __name__ == \"__main__\":\n",
        "    main()\n"
      ],
      "metadata": {
        "colab": {
          "base_uri": "https://localhost:8080/"
        },
        "id": "Lu6NUN-y5zWu",
        "outputId": "020134db-b959-4d8f-d02f-97d393417e34"
      },
      "execution_count": 1,
      "outputs": [
        {
          "output_type": "stream",
          "name": "stdout",
          "text": [
            "\n",
            "⏳ Welcome to the Seconds in a Year Calculator! ⏳\n",
            "\n",
            "  Do you want to calculate for a normal year (365 days) or a leap year (366 days)? (normal/leap):normal\n",
            "\n",
            " ✅ There are 31,536,000 seconds in a normal year! 🕒\n",
            "\n",
            " 🔄 Would you like to calculate again? (yes/y or no/n):y\n",
            "\n",
            "  Do you want to calculate for a normal year (365 days) or a leap year (366 days)? (normal/leap):leap\n",
            "\n",
            "✅ There are 31,622,400 seconds in a leap year! 🌟\n",
            "\n",
            " 🔄 Would you like to calculate again? (yes/y or no/n):n\n",
            "\n",
            " 👋 Thank you for using the calculator! Have a great day! 😊\n"
          ]
        }
      ]
    }
  ]
}