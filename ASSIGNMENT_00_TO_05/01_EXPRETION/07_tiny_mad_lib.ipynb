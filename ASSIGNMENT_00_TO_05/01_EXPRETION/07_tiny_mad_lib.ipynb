{
  "nbformat": 4,
  "nbformat_minor": 0,
  "metadata": {
    "colab": {
      "provenance": [],
      "authorship_tag": "ABX9TyP7rIKwgt3/3mgCnY4UruNS",
      "include_colab_link": true
    },
    "kernelspec": {
      "name": "python3",
      "display_name": "Python 3"
    },
    "language_info": {
      "name": "python"
    }
  },
  "cells": [
    {
      "cell_type": "markdown",
      "metadata": {
        "id": "view-in-github",
        "colab_type": "text"
      },
      "source": [
        "<a href=\"https://colab.research.google.com/github/Nazia-naz90/PROJECT_04_BY_nAZIA/blob/main/07_tiny_mad_lib.ipynb\" target=\"_parent\"><img src=\"https://colab.research.google.com/assets/colab-badge.svg\" alt=\"Open In Colab\"/></a>"
      ]
    },
    {
      "cell_type": "markdown",
      "source": [
        "### Program: tiny_mad_libs"
      ],
      "metadata": {
        "id": "RNMiR525cFSf"
      }
    },
    {
      "cell_type": "code",
      "source": [
        "import itertools\n",
        "\n",
        "print(\"🎭 Welcome to the Ultimate Mad Libs Game! Get ready to create hilarious and wacky stories! ✨\\n\")\n",
        "\n",
        "# List of sentence staters (rotating order)\n",
        "SENTENCE_STARTERS = itertools.cycle([\n",
        "    \"Once upon a time, I discovered how to create my \",\n",
        "    \"In a magical world, I built a \",\n",
        "    \"Using Python, I invented a \",\n",
        "    \"I love coding! Today, I designed a \",\n",
        "    \"With a bit of creativity, I created a \",\n",
        "    \"In an alternate universe, my \"\n",
        "])\n",
        "\n",
        "def mad_lib():\n",
        "    \"\"\"Generates a Mad Lib sentence with a rotating sentence starters.\"\"\"\n",
        "    while True:\n",
        "      sentence_start = next(SENTENCE_STARTERS)\n",
        "\n",
        "      adjective:str = input(\"🎨 Pleas enter an adjective and press Enter:  \").strip().lower()\n",
        "      noun:str = input(\"📦 Please enter a noun and press Enter:  \").strip().lower()\n",
        "      verb:str = input(\"🏃 Please enter a verb and press Enter:  \").strip().lower()\n",
        "\n",
        "\n",
        "      mad_lib_sentence = sentence_start + adjective + \"   \" + noun + \"  that can  \"  +  verb  +  \"!\"\n",
        "\n",
        "      print(\"\\n✨ Here’s your Mad Libs sentence! ✨\")\n",
        "      print(f\"📝 {mad_lib_sentence.capitalize()} \\n\")\n",
        "\n",
        "      restart = input(\"🔄 Would you like to create a Mad lib ? (yes/y or no/n):\").strip().lower()\n",
        "      if restart not in [\"yes\", \"y\"]:\n",
        "          print(\"\\n👋 Thanks for playing Mad Libs! Have a great day! 😊\")\n",
        "\n",
        "          break # Exit the loop\n",
        "\n",
        "if __name__ == \"__main__\":\n",
        "\n",
        "   mad_lib()"
      ],
      "metadata": {
        "colab": {
          "base_uri": "https://localhost:8080/"
        },
        "id": "6zH4socHcKr_",
        "outputId": "6a2a1977-5cc3-4a35-a8dd-32ba2a984b11"
      },
      "execution_count": 3,
      "outputs": [
        {
          "output_type": "stream",
          "name": "stdout",
          "text": [
            "🎭 Welcome to the Ultimate Mad Libs Game! Get ready to create hilarious and wacky stories! ✨\n",
            "\n",
            "🎨 Pleas enter an adjective and press Enter:  funny\n",
            "📦 Please enter a noun and press Enter:  doll\n",
            "🏃 Please enter a verb and press Enter:  jumps\n",
            "\n",
            "✨ Here’s your Mad Libs sentence! ✨\n",
            "📝 Once upon a time, i discovered how to create my funny   doll  that can  jumps! \n",
            "\n",
            "🔄 Would you like to create a Mad lib ? (yes/y or no/n):n\n",
            "\n",
            "👋 Thanks for playing Mad Libs! Have a great day! 😊\n"
          ]
        }
      ]
    }
  ]
}