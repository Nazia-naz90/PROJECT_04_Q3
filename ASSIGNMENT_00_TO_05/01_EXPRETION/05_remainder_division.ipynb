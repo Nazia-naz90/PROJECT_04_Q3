{
  "nbformat": 4,
  "nbformat_minor": 0,
  "metadata": {
    "colab": {
      "provenance": [],
      "authorship_tag": "ABX9TyPxmERQ3h/HP/zNr3d16seZ",
      "include_colab_link": true
    },
    "kernelspec": {
      "name": "python3",
      "display_name": "Python 3"
    },
    "language_info": {
      "name": "python"
    }
  },
  "cells": [
    {
      "cell_type": "markdown",
      "metadata": {
        "id": "view-in-github",
        "colab_type": "text"
      },
      "source": [
        "<a href=\"https://colab.research.google.com/github/Nazia-naz90/PROJECT_04_BY_nAZIA/blob/main/05_remainder_division.ipynb\" target=\"_parent\"><img src=\"https://colab.research.google.com/assets/colab-badge.svg\" alt=\"Open In Colab\"/></a>"
      ]
    },
    {
      "cell_type": "markdown",
      "source": [
        "# Program: remainder_division"
      ],
      "metadata": {
        "id": "gHYIIMerlyT5"
      }
    },
    {
      "cell_type": "code",
      "source": [
        "print(\"📌 Welcome to the Remainder Division Calculator! 📌\\n\")\n",
        "\n",
        "def remainder():\n",
        "    while True: # Loop to restart the program if needed\n",
        "        num1: int = int(input(\"🔢 Please enter the dividend (number to be divided): \"))\n",
        "\n",
        "        # Ensure the Divisor is not Zero\n",
        "        while True:\n",
        "            num2: int = int(input(\"🔢 Please enter the divisor (number to divide by): \"))\n",
        "            if num2 == 0:\n",
        "                print(\"❌ Error: The divisor cannot be zero. Please enter a valid number!\")\n",
        "            else:\n",
        "                break\n",
        "\n",
        "        quotient: int = num1 // num2 # Integer division\n",
        "        remainder: int = num1 % num2 # Modulo Operation\n",
        "\n",
        "        print(f\"✅ The result of the division is: {quotient} with a remainder of {remainder}\\n\")\n",
        "\n",
        "        # Ask the user if they want to restart\n",
        "        restart = input(\"🔄 Do you want to calculate again? (yes/no): \").strip().lower()\n",
        "\n",
        "        if restart in [\"n\", \"no\"]:\n",
        "            print(\"👋 Thank you for using the calculator! Goodbye!\")\n",
        "            break  # Exit the loop and end the program\n",
        "        elif restart in [\"y\", \"yes\"]:\n",
        "            continue  # Restart the loop\n",
        "        else:\n",
        "            print(\"❌ Invalid input! Exiting program.\")\n",
        "            break  # Invalid input, exit program\n",
        "\n",
        "if __name__ == \"__main__\":\n",
        "    remainder()"
      ],
      "metadata": {
        "id": "75pJwBfUl6TF",
        "colab": {
          "base_uri": "https://localhost:8080/"
        },
        "outputId": "863502ec-d9b8-424c-9de2-a79f459fbf24"
      },
      "execution_count": null,
      "outputs": [
        {
          "output_type": "stream",
          "name": "stdout",
          "text": [
            "📌 Welcome to the Remainder Division Calculator! 📌\n",
            "\n",
            "🔢 Please enter the dividend (number to be divided): 4\n",
            "🔢 Please enter the divisor (number to divide by): 2\n",
            "✅ The result of the division is: 2 with a remainder of 0\n",
            "\n",
            "🔄 Do you want to calculate again? (yes/no): y\n",
            "🔢 Please enter the dividend (number to be divided): 8\n",
            "🔢 Please enter the divisor (number to divide by): 70\n",
            "✅ The result of the division is: 0 with a remainder of 8\n",
            "\n",
            "🔄 Do you want to calculate again? (yes/no): y\n",
            "🔢 Please enter the dividend (number to be divided): 5\n",
            "🔢 Please enter the divisor (number to divide by): 35\n",
            "✅ The result of the division is: 0 with a remainder of 5\n",
            "\n"
          ]
        }
      ]
    }
  ]
}