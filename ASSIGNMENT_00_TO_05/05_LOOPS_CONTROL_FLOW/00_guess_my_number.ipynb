{
  "nbformat": 4,
  "nbformat_minor": 0,
  "metadata": {
    "colab": {
      "provenance": [],
      "authorship_tag": "ABX9TyPnJyvU20/Xq0W3v9s4hIjr",
      "include_colab_link": true
    },
    "kernelspec": {
      "name": "python3",
      "display_name": "Python 3"
    },
    "language_info": {
      "name": "python"
    }
  },
  "cells": [
    {
      "cell_type": "markdown",
      "metadata": {
        "id": "view-in-github",
        "colab_type": "text"
      },
      "source": [
        "<a href=\"https://colab.research.google.com/github/Nazia-naz90/PROJECT_04_BY_nAZIA/blob/main/00_guess_my_number.ipynb\" target=\"_parent\"><img src=\"https://colab.research.google.com/assets/colab-badge.svg\" alt=\"Open In Colab\"/></a>"
      ]
    },
    {
      "cell_type": "markdown",
      "source": [
        "# Program: guess_my_number"
      ],
      "metadata": {
        "id": "6hp5TmJNDkt-"
      }
    },
    {
      "cell_type": "code",
      "source": [
        "import random\n",
        "\n",
        "def guess_my_number():\n",
        "    \"\"\" A number guessing game where the user tries to guess a randomly generated number. \"\"\"\n",
        "    secret_number = random.randint(0,99) # # Generate a random number between 0 and 99\n",
        "    print(\"\\n🎯 Welcome to 'Guess My Number' Game! 🎯\")\n",
        "    print(\"I am thinking of a number between 0 and 99...\\n\")\n",
        "\n",
        "    while True:\n",
        "         try:\n",
        "              guess = int(input(\"🔢 Enter your guess: \")) # User input\n",
        "              if guess < 0 or guess > 99:\n",
        "                  print(\"⚠️ Please enter a number between 0 and 99!\")\n",
        "              elif guess < secret_number:\n",
        "                  print(\"📉 Your guess is too low. Try again!\")\n",
        "              elif guess > secret_number:\n",
        "                  print(\"📈 Your guess is too high. Try again!\")\n",
        "              else:\n",
        "                  print(f\"\\n🎉 Congrats! The number was: {secret_number} 🎉\")\n",
        "                  break # Exit the loop when the correct number is guessed\n",
        "         except ValueError:\n",
        "            print(\"❌ Invalid input! Please enter a valid number.\")\n",
        "\n",
        "if __name__ == \"__main__\":\n",
        "     guess_my_number()"
      ],
      "metadata": {
        "colab": {
          "base_uri": "https://localhost:8080/"
        },
        "id": "Y9WnOqo9DpyJ",
        "outputId": "ea843d5f-0c44-4ea1-fd6b-8e9e2446f4ab"
      },
      "execution_count": 1,
      "outputs": [
        {
          "output_type": "stream",
          "name": "stdout",
          "text": [
            "\n",
            "🎯 Welcome to 'Guess My Number' Game! 🎯\n",
            "I am thinking of a number between 0 and 99...\n",
            "\n",
            "🔢 Enter your guess: 7\n",
            "📉 Your guess is too low. Try again!\n",
            "🔢 Enter your guess: 88\n",
            "📈 Your guess is too high. Try again!\n",
            "🔢 Enter your guess: 50\n",
            "📈 Your guess is too high. Try again!\n",
            "🔢 Enter your guess: 40\n",
            "📈 Your guess is too high. Try again!\n",
            "🔢 Enter your guess: 20\n",
            "📉 Your guess is too low. Try again!\n",
            "🔢 Enter your guess: 35\n",
            "📈 Your guess is too high. Try again!\n",
            "🔢 Enter your guess: 30\n",
            "\n",
            "🎉 Congrats! The number was: 30 🎉\n"
          ]
        }
      ]
    }
  ]
}