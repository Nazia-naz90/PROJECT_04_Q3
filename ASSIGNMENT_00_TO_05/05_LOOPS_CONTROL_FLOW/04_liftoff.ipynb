{
  "nbformat": 4,
  "nbformat_minor": 0,
  "metadata": {
    "colab": {
      "provenance": [],
      "authorship_tag": "ABX9TyPhTMh8OWizYs51c01YK3E5",
      "include_colab_link": true
    },
    "kernelspec": {
      "name": "python3",
      "display_name": "Python 3"
    },
    "language_info": {
      "name": "python"
    }
  },
  "cells": [
    {
      "cell_type": "markdown",
      "metadata": {
        "id": "view-in-github",
        "colab_type": "text"
      },
      "source": [
        "<a href=\"https://colab.research.google.com/github/Nazia-naz90/PROJECT_04_BY_nAZIA/blob/main/04_liftoff.ipynb\" target=\"_parent\"><img src=\"https://colab.research.google.com/assets/colab-badge.svg\" alt=\"Open In Colab\"/></a>"
      ]
    },
    {
      "cell_type": "markdown",
      "source": [
        "# Program: spaceship_countdown"
      ],
      "metadata": {
        "id": "VyKS44C37JI4"
      }
    },
    {
      "cell_type": "code",
      "source": [
        "import time # ⏳ Importing time module to add a delay for effect\n",
        "\n",
        "def countdown():\n",
        "    \"\"\"🚀 Prints a countdown from 10 to 1, then prints 'Liftoff!'.\"\"\"\n",
        "    print(\"🛸 Initiating spaceship countdown....\")\n",
        "\n",
        "    for i in range(10, 0 , -1): # 🔄 Loop from 10 down to 1\n",
        "        print(i,end=\" \", flush = True) # Print Countsown on same line\n",
        "        time.sleep(1) # ⏳ Pause for 1 second (to simulate real countdown)\n",
        "\n",
        "    print(\"🚀 Liftoff!\") # ✅ Final liftoff message\n",
        "\n",
        "# 🚀 Main Function\n",
        "def main():\n",
        "    countdown()\n",
        "\n",
        "# 🔥 Run the Program\n",
        "if __name__ == \"__main__\":\n",
        "   main()"
      ],
      "metadata": {
        "colab": {
          "base_uri": "https://localhost:8080/"
        },
        "id": "S_pyeAXI7OUa",
        "outputId": "ef6e1bea-cb0f-47a8-dfd7-175f72c0d8ff"
      },
      "execution_count": 1,
      "outputs": [
        {
          "output_type": "stream",
          "name": "stdout",
          "text": [
            "🛸 Initiating spaceship countdown....\n",
            "10 9 8 7 6 5 4 3 2 1 🚀 Liftoff!\n"
          ]
        }
      ]
    }
  ]
}