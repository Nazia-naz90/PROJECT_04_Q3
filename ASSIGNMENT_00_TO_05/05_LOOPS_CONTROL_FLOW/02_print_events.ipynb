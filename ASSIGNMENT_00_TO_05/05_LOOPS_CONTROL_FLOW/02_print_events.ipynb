{
  "nbformat": 4,
  "nbformat_minor": 0,
  "metadata": {
    "colab": {
      "provenance": [],
      "authorship_tag": "ABX9TyPhNXAJ7AHfmIufZX+oJLVF",
      "include_colab_link": true
    },
    "kernelspec": {
      "name": "python3",
      "display_name": "Python 3"
    },
    "language_info": {
      "name": "python"
    }
  },
  "cells": [
    {
      "cell_type": "markdown",
      "metadata": {
        "id": "view-in-github",
        "colab_type": "text"
      },
      "source": [
        "<a href=\"https://colab.research.google.com/github/Nazia-naz90/PROJECT_04_BY_nAZIA/blob/main/02_print_events.ipynb\" target=\"_parent\"><img src=\"https://colab.research.google.com/assets/colab-badge.svg\" alt=\"Open In Colab\"/></a>"
      ]
    },
    {
      "cell_type": "markdown",
      "source": [
        "# Program: even_numbers"
      ],
      "metadata": {
        "id": "5w5YBl4WskH9"
      }
    },
    {
      "cell_type": "code",
      "source": [
        "# 📌 Number of even numbers to generate\n",
        "NUM_EVEN_NUMBERS = 20\n",
        "def print_even_numbers():\n",
        "    \"\"\"Prints the first 20 even numbers.\"\"\"\n",
        "    print(\"🔢 First\", NUM_EVEN_NUMBERS, \"Even Numbers 🔢\\n\")\n",
        "\n",
        "\n",
        "    even_number = [str(2 * i) for i in range(NUM_EVEN_NUMBERS)]  # Generate and convert to string\n",
        "    print(\" \".join(even_number)) # Print in one line\n",
        "\n",
        "    print(\"\\n✅ Successfully printed the first\" , NUM_EVEN_NUMBERS, \"even numbers.\")\n",
        "\n",
        "# 🚀 Main Function\n",
        "def main():\n",
        "    print_even_numbers()\n",
        "\n",
        "# 🔥 Run the program\n",
        "if __name__ == \"__main__\":\n",
        "   main()\n"
      ],
      "metadata": {
        "colab": {
          "base_uri": "https://localhost:8080/"
        },
        "id": "ODOUgm6stKT5",
        "outputId": "9622e956-5960-4dc4-9f96-09565026a934"
      },
      "execution_count": 3,
      "outputs": [
        {
          "output_type": "stream",
          "name": "stdout",
          "text": [
            "🔢 First 20 Even Numbers 🔢\n",
            "\n",
            "0 2 4 6 8 10 12 14 16 18 20 22 24 26 28 30 32 34 36 38\n",
            "\n",
            "✅ Successfully printed the first 20 even numbers.\n"
          ]
        }
      ]
    }
  ]
}