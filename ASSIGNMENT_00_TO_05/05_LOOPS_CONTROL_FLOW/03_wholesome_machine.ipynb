{
  "nbformat": 4,
  "nbformat_minor": 0,
  "metadata": {
    "colab": {
      "provenance": [],
      "authorship_tag": "ABX9TyODHsLmcYxawv87p3wXgTMU",
      "include_colab_link": true
    },
    "kernelspec": {
      "name": "python3",
      "display_name": "Python 3"
    },
    "language_info": {
      "name": "python"
    }
  },
  "cells": [
    {
      "cell_type": "markdown",
      "metadata": {
        "id": "view-in-github",
        "colab_type": "text"
      },
      "source": [
        "<a href=\"https://colab.research.google.com/github/Nazia-naz90/PROJECT_04_BY_nAZIA/blob/main/03_wholesome_machine.ipynb\" target=\"_parent\"><img src=\"https://colab.research.google.com/assets/colab-badge.svg\" alt=\"Open In Colab\"/></a>"
      ]
    },
    {
      "cell_type": "markdown",
      "source": [
        "# Program: affirmation_checker"
      ],
      "metadata": {
        "id": "WMvg7tkS1l0C"
      }
    },
    {
      "cell_type": "code",
      "source": [
        "# 📌 Predefined affirmation\n",
        "CORRECT_AFFIRMATION: str = \"I am capable of doing anything I put my mind to.\"\n",
        "\n",
        "def get_affirmation():\n",
        "    \"\"\"Prompts the user to type the affirmation correctly.\"\"\"\n",
        "    print(f\"📝 Please type the following affirmation: \\n👉 {CORRECT_AFFIRMATION}\\n\")\n",
        "\n",
        "    while True:\n",
        "      user_input : str = input(\"✍️ Your input: \")\n",
        "\n",
        "      if user_input.strip() == CORRECT_AFFIRMATION:  # ✅ Check for correct input (strip removes extra spaces)\n",
        "           print(\"🎉 That's right! Keep believing in yourself! 😊\")\n",
        "           break    # ✅ Exit the loop if correct\n",
        "      else:\n",
        "         print(\"❌ That was not the affirmation. Please try again.\\n \")\n",
        "\n",
        "# 🚀 Main function\n",
        "def main():\n",
        "    get_affirmation()\n",
        "\n",
        "#  🔥 Run the program\n",
        "if __name__ == \"__main__\":\n",
        "    main()\n",
        "\n"
      ],
      "metadata": {
        "colab": {
          "base_uri": "https://localhost:8080/"
        },
        "id": "KTTy0wMM1uEU",
        "outputId": "c1df3430-7c11-429e-c85e-c6a16aaad7e3"
      },
      "execution_count": 1,
      "outputs": [
        {
          "output_type": "stream",
          "name": "stdout",
          "text": [
            "📝 Please type the following affirmation: \n",
            "👉 I am capable of doing anything I put my mind to.\n",
            "\n",
            "✍️ Your input: I am capable of my works I put my mind to.\n",
            "❌ That was not the affirmation. Please try again.\n",
            " \n",
            "✍️ Your input: I am capable of doing anything I put my mind to.\n",
            "🎉 That's right! Keep believing in yourself! 😊\n"
          ]
        }
      ]
    }
  ]
}