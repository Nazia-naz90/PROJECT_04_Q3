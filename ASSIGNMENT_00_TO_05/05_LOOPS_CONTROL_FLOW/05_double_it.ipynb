{
  "nbformat": 4,
  "nbformat_minor": 0,
  "metadata": {
    "colab": {
      "provenance": [],
      "authorship_tag": "ABX9TyO5wW1oVSIiADc0+kuLoEhz",
      "include_colab_link": true
    },
    "kernelspec": {
      "name": "python3",
      "display_name": "Python 3"
    },
    "language_info": {
      "name": "python"
    }
  },
  "cells": [
    {
      "cell_type": "markdown",
      "metadata": {
        "id": "view-in-github",
        "colab_type": "text"
      },
      "source": [
        "<a href=\"https://colab.research.google.com/github/Nazia-naz90/PROJECT_04_BY_nAZIA/blob/main/05_double_it.ipynb\" target=\"_parent\"><img src=\"https://colab.research.google.com/assets/colab-badge.svg\" alt=\"Open In Colab\"/></a>"
      ]
    },
    {
      "cell_type": "markdown",
      "source": [
        "# Program : Double Numbers"
      ],
      "metadata": {
        "id": "KxWV3c3o_Cbz"
      }
    },
    {
      "cell_type": "code",
      "source": [
        "import time\n",
        "\n",
        "def double_untill_100():\n",
        "    \"\"\"🧮 Repeatedly doubles a user-provided number until it reaches or exceeds 100, with a delay.\"\"\"\n",
        "\n",
        "    curr_value = float(input(\"🔢 Enter a number:\")) # ✅ Get input from the user\n",
        "\n",
        "    print(\"\\n📈 Doubling process (1 second delay per step)\")\n",
        "\n",
        "    while curr_value < 100: # ✅ Loop until curr_value is 100 or more\n",
        "          curr_value *= 2   # 🔄 Double the current value\n",
        "          print(int(curr_value),end=\" \",flush=True) # # ✅ Print numbers on the same line\n",
        "          time.sleep(1) # ⏳ Add a 1-second delay between each doubling step\n",
        "\n",
        "    print(\"\\n🎯 Stopping as the number has reached or exceeded 100!\")\n",
        "\n",
        "# 🔥 Main function\n",
        "def main():\n",
        "    double_untill_100()\n",
        "\n",
        "# Run the program\n",
        "if __name__ == \"__main__\" :\n",
        "     main()\n"
      ],
      "metadata": {
        "colab": {
          "base_uri": "https://localhost:8080/"
        },
        "id": "y_iY4yVTAIAO",
        "outputId": "a3d6a554-d628-41cd-fc98-8988d08713a1"
      },
      "execution_count": 4,
      "outputs": [
        {
          "output_type": "stream",
          "name": "stdout",
          "text": [
            "🔢 Enter a number:2\n",
            "\n",
            "📈 Doubling process (1 second delay per step)\n",
            "4 8 16 32 64 128 \n",
            "🎯 Stopping as the number has reached or exceeded 100!\n"
          ]
        }
      ]
    }
  ]
}