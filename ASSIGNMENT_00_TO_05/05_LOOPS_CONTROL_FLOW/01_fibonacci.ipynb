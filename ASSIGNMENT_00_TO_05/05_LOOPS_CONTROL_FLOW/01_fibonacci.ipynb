{
  "nbformat": 4,
  "nbformat_minor": 0,
  "metadata": {
    "colab": {
      "provenance": [],
      "authorship_tag": "ABX9TyOObQrSmaT/d+HER/K/XCny",
      "include_colab_link": true
    },
    "kernelspec": {
      "name": "python3",
      "display_name": "Python 3"
    },
    "language_info": {
      "name": "python"
    }
  },
  "cells": [
    {
      "cell_type": "markdown",
      "metadata": {
        "id": "view-in-github",
        "colab_type": "text"
      },
      "source": [
        "<a href=\"https://colab.research.google.com/github/Nazia-naz90/PROJECT_04_BY_nAZIA/blob/main/01_fibonacci.ipynb\" target=\"_parent\"><img src=\"https://colab.research.google.com/assets/colab-badge.svg\" alt=\"Open In Colab\"/></a>"
      ]
    },
    {
      "cell_type": "markdown",
      "source": [
        "# Program: fibonacci_sequence"
      ],
      "metadata": {
        "id": "vQFGDSbFlY30"
      }
    },
    {
      "cell_type": "code",
      "source": [
        "# 📌 Maximum value for Fibonacci sequence\n",
        "MAX_VALUE = 10000\n",
        "\n",
        "def generate_fibonacci():\n",
        "    \"\"\" Generates and prints Fibonacci numbers up to MAX_VALUE.\"\"\"\n",
        "    fib1,fib2 = 0 ,1    # First two Fibonacci numbers\n",
        "\n",
        "\n",
        "    print(\"📈 Fibonacci Sequence up to\",MAX_VALUE, \"📈\\n\")\n",
        "\n",
        "    while fib1 <= MAX_VALUE :\n",
        "        print(fib1, end =\"  \") # print the number in a single line\n",
        "        fib1,fib2 = fib2 ,fib1 + fib2  # Update Fibonacci numbers\n",
        "\n",
        "    print(\"\\n\\n ✅ Fibonacci sequence generation complete!\") # Completion message\n",
        "\n",
        "#  🚀 Main Function\n",
        "def main():\n",
        "    generate_fibonacci()\n",
        "\n",
        "if  __name__ == \"__main__\":\n",
        "     main()"
      ],
      "metadata": {
        "colab": {
          "base_uri": "https://localhost:8080/"
        },
        "id": "TBRbFh4glfv4",
        "outputId": "ec77eb6f-29a8-4d19-90ae-3280f18b74e4"
      },
      "execution_count": 3,
      "outputs": [
        {
          "output_type": "stream",
          "name": "stdout",
          "text": [
            "📈 Fibonacci Sequence up to 10000 📈\n",
            "\n",
            "0  1  1  2  3  5  8  13  21  34  55  89  144  233  377  610  987  1597  2584  4181  6765  \n",
            "\n",
            " ✅ Fibonacci sequence generation complete!\n"
          ]
        }
      ]
    }
  ]
}