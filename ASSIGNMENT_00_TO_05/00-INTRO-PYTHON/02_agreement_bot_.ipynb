{
  "nbformat": 4,
  "nbformat_minor": 0,
  "metadata": {
    "colab": {
      "provenance": [],
      "authorship_tag": "ABX9TyP+KzWZZBYT33FAI7bQSDos",
      "include_colab_link": true
    },
    "kernelspec": {
      "name": "python3",
      "display_name": "Python 3"
    },
    "language_info": {
      "name": "python"
    }
  },
  "cells": [
    {
      "cell_type": "markdown",
      "metadata": {
        "id": "view-in-github",
        "colab_type": "text"
      },
      "source": [
        "<a href=\"https://colab.research.google.com/github/Nazia-naz90/PROJECT_04_BY_nAZIA/blob/main/02_agreement_bot_.ipynb\" target=\"_parent\"><img src=\"https://colab.research.google.com/assets/colab-badge.svg\" alt=\"Open In Colab\"/></a>"
      ]
    },
    {
      "cell_type": "markdown",
      "source": [
        "Program: Favourit Animal"
      ],
      "metadata": {
        "id": "LZeuDxI6ZfOK"
      }
    },
    {
      "cell_type": "code",
      "source": [
        "def bot():\n",
        "  animal = str(input(\"What is your favourit animal?\"))\n",
        "  print(f'My favourit animal is also {animal}!')\n",
        "\n",
        "if __name__ == \"__main__\":\n",
        "  bot()"
      ],
      "metadata": {
        "colab": {
          "base_uri": "https://localhost:8080/"
        },
        "id": "d-WgB8juZqQB",
        "outputId": "9820db30-532e-4159-a8fc-5f05695a5d4d"
      },
      "execution_count": 7,
      "outputs": [
        {
          "output_type": "stream",
          "name": "stdout",
          "text": [
            "What is your favourit animal?Elephant\n",
            "My favourit animal is also Elephant!\n"
          ]
        }
      ]
    }
  ]
}