{
  "nbformat": 4,
  "nbformat_minor": 0,
  "metadata": {
    "colab": {
      "provenance": [],
      "authorship_tag": "ABX9TyP6IwqcvEHYVdnMgZ1vGvN9",
      "include_colab_link": true
    },
    "kernelspec": {
      "name": "python3",
      "display_name": "Python 3"
    },
    "language_info": {
      "name": "python"
    }
  },
  "cells": [
    {
      "cell_type": "markdown",
      "metadata": {
        "id": "view-in-github",
        "colab_type": "text"
      },
      "source": [
        "<a href=\"https://colab.research.google.com/github/Nazia-naz90/PROJECT_04_BY_nAZIA/blob/main/03_fahrenheit_to_celsius.ipynb\" target=\"_parent\"><img src=\"https://colab.research.google.com/assets/colab-badge.svg\" alt=\"Open In Colab\"/></a>"
      ]
    },
    {
      "cell_type": "markdown",
      "source": [
        "## Program: Fahrenheit to Celsius Converter"
      ],
      "metadata": {
        "id": "DKUUEJxGco1v"
      }
    },
    {
      "cell_type": "code",
      "source": [
        "def temp():\n",
        "  print(\"Converts Farenheit to Celsius with accuracy and efficiency.\")\n",
        "  farenheit_degree = float(input(\"Enter temperature in Farenheit:\"))\n",
        "  celsius_degree = (farenheit_degree - 32) * 5.0/9.0\n",
        "  print(f'Temperature: {farenheit_degree}F = {celsius_degree}C')\n",
        "\n",
        "if __name__ == \"__main__\":\n",
        "    temp()"
      ],
      "metadata": {
        "colab": {
          "base_uri": "https://localhost:8080/"
        },
        "id": "TkmveoYSiBNw",
        "outputId": "eb2133d7-96c7-4b7e-8a2d-f68a593b274a"
      },
      "execution_count": 8,
      "outputs": [
        {
          "output_type": "stream",
          "name": "stdout",
          "text": [
            "Converts Farenheit to Celsius with accuracy and efficiency.\n",
            "Enter temperature in Farenheit:-28\n",
            "Temperature: -28.0F = -33.333333333333336C\n"
          ]
        }
      ]
    }
  ]
}