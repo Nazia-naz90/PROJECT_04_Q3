{
  "nbformat": 4,
  "nbformat_minor": 0,
  "metadata": {
    "colab": {
      "provenance": [],
      "authorship_tag": "ABX9TyOkMwtLPqhVHXuSqSKyoCIh",
      "include_colab_link": true
    },
    "kernelspec": {
      "name": "python3",
      "display_name": "Python 3"
    },
    "language_info": {
      "name": "python"
    }
  },
  "cells": [
    {
      "cell_type": "markdown",
      "metadata": {
        "id": "view-in-github",
        "colab_type": "text"
      },
      "source": [
        "<a href=\"https://colab.research.google.com/github/Nazia-naz90/PROJECT_04_BY_nAZIA/blob/main/05_triangle_perimeter.ipynb\" target=\"_parent\"><img src=\"https://colab.research.google.com/assets/colab-badge.svg\" alt=\"Open In Colab\"/></a>"
      ]
    },
    {
      "cell_type": "markdown",
      "source": [
        "## Program: Triangle Perimeter Calculator"
      ],
      "metadata": {
        "id": "ih9Nwwr0p1s8"
      }
    },
    {
      "cell_type": "code",
      "source": [
        "def triangle():\n",
        "  side1: float = float(input(\"what is the length of side 1?\"))\n",
        "  side2: float = float(input(\"what is the length of side 2\"))\n",
        "  side3: float = float(input(\"what is the length of side 3\"))\n",
        "\n",
        "  total: float = side1 + side2 + side3\n",
        "\n",
        "  print(f\"The perimeter of the triangle is {total}\")\n",
        "\n",
        "if __name__ == \"__main__\":\n",
        "  triangle()"
      ],
      "metadata": {
        "colab": {
          "base_uri": "https://localhost:8080/"
        },
        "id": "bY8c3UIDp9iu",
        "outputId": "f00e7e63-a70f-4827-c25a-b8d872ebfae5"
      },
      "execution_count": 2,
      "outputs": [
        {
          "output_type": "stream",
          "name": "stdout",
          "text": [
            "what is the length of side 1?10\n",
            "what is the length of side 215\n",
            "what is the length of side 320\n",
            "The perimeter of the triangle is 45.0\n"
          ]
        }
      ]
    }
  ]
}