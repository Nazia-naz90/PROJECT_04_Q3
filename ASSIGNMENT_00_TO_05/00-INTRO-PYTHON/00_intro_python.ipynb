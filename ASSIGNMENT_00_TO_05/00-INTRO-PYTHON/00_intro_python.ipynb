{
  "nbformat": 4,
  "nbformat_minor": 0,
  "metadata": {
    "colab": {
      "provenance": [],
      "authorship_tag": "ABX9TyNCHI0LsYxhTEjjOQqf5k/W",
      "include_colab_link": true
    },
    "kernelspec": {
      "name": "python3",
      "display_name": "Python 3"
    },
    "language_info": {
      "name": "python"
    }
  },
  "cells": [
    {
      "cell_type": "markdown",
      "metadata": {
        "id": "view-in-github",
        "colab_type": "text"
      },
      "source": [
        "<a href=\"https://colab.research.google.com/github/Nazia-naz90/PROJECT_04_BY_nAZIA/blob/main/00_intro_python.ipynb\" target=\"_parent\"><img src=\"https://colab.research.google.com/assets/colab-badge.svg\" alt=\"Open In Colab\"/></a>"
      ]
    },
    {
      "cell_type": "markdown",
      "source": [
        "## Problem Statement\n",
        "01 #    Add two numbers !\n"
      ],
      "metadata": {
        "id": "fLsio0gUdhW4"
      }
    },
    {
      "cell_type": "code",
      "source": [
        "def add():\n",
        "  print(\"This application is designed to perform the addition of two numbers.\")\n",
        "  first_number = int(input(\"Enter the first number\"))\n",
        "  second_number = int(input(\"Enter the second number\"))\n",
        "  total = int(first_number + second_number)\n",
        "  print(f'The total sum of {first_number} and {second_number} is {total}')\n",
        "\n",
        "if __name__ == \"__main__\":\n",
        "  add()"
      ],
      "metadata": {
        "colab": {
          "base_uri": "https://localhost:8080/"
        },
        "id": "IuRk8wRXWC1x",
        "outputId": "e16e0391-d1d0-49f2-e402-fe4d5a3a5454"
      },
      "execution_count": 6,
      "outputs": [
        {
          "output_type": "stream",
          "name": "stdout",
          "text": [
            "This application is designed to perform the addition of two numbers.\n",
            "Enter the first number10\n",
            "Enter the second number25\n",
            "The total sum of 10 and 25 is 35\n"
          ]
        }
      ]
    }
  ]
}