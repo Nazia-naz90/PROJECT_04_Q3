{
  "nbformat": 4,
  "nbformat_minor": 0,
  "metadata": {
    "colab": {
      "provenance": [],
      "gpuType": "T4",
      "authorship_tag": "ABX9TyOwQ069E+Amx/O+Esny0DR9",
      "include_colab_link": true
    },
    "kernelspec": {
      "name": "python3",
      "display_name": "Python 3"
    },
    "language_info": {
      "name": "python"
    },
    "accelerator": "GPU"
  },
  "cells": [
    {
      "cell_type": "markdown",
      "metadata": {
        "id": "view-in-github",
        "colab_type": "text"
      },
      "source": [
        "<a href=\"https://colab.research.google.com/github/Nazia-naz90/PROJECT_04_BY_nAZIA/blob/main/04_how_old_are_they.ipynb\" target=\"_parent\"><img src=\"https://colab.research.google.com/assets/colab-badge.svg\" alt=\"Open In Colab\"/></a>"
      ]
    },
    {
      "cell_type": "markdown",
      "source": [
        "# Program: friend_ages"
      ],
      "metadata": {
        "id": "jAHNRFjsmCQP"
      }
    },
    {
      "cell_type": "code",
      "source": [
        "def add_ages():\n",
        "  ali = 25 # Ali's age is given\n",
        "  bilal = ali + 6 # Bilal is 6 years older\n",
        "  ahmed = bilal + 20 # Ahmed is 20 years older then Bilal\n",
        "  talha = ali + ahmed # Talha is Ahmed's age plus Ali's age\n",
        "  ebaad = ahmed # Ebaad is the same age as Ahmed\n",
        "\n",
        "  # Print all ages\n",
        "  print(\"Ali is \" + str(ali))\n",
        "  print(\"Bilal is\" + str(bilal))\n",
        "  print(\"Ahmed is \" + str(ahmed))\n",
        "  print(\"Talha is \" + str(talha))\n",
        "  print(\"Ebaad is \" + str(ebaad))\n",
        "\n",
        "if __name__ == \"__main__\":\n",
        "  add_ages()\n"
      ],
      "metadata": {
        "colab": {
          "base_uri": "https://localhost:8080/"
        },
        "id": "u0VRT9e7mJ2H",
        "outputId": "e56b95d4-8e61-4e0f-af38-7d46218852c7"
      },
      "execution_count": 1,
      "outputs": [
        {
          "output_type": "stream",
          "name": "stdout",
          "text": [
            "Ali is 25\n",
            "Bilal is31\n",
            "Ahmed is 51\n",
            "Talha is 76\n",
            "Ebaad is 51\n"
          ]
        }
      ]
    }
  ]
}