{
  "nbformat": 4,
  "nbformat_minor": 0,
  "metadata": {
    "colab": {
      "provenance": [],
      "authorship_tag": "ABX9TyOLkN673Zskcvf8javo2w+m",
      "include_colab_link": true
    },
    "kernelspec": {
      "name": "python3",
      "display_name": "Python 3"
    },
    "language_info": {
      "name": "python"
    }
  },
  "cells": [
    {
      "cell_type": "markdown",
      "metadata": {
        "id": "view-in-github",
        "colab_type": "text"
      },
      "source": [
        "<a href=\"https://colab.research.google.com/github/Nazia-naz90/PROJECT_04_BY_nAZIA/blob/main/08_shorten1.ipynb\" target=\"_parent\"><img src=\"https://colab.research.google.com/assets/colab-badge.svg\" alt=\"Open In Colab\"/></a>"
      ]
    },
    {
      "cell_type": "markdown",
      "source": [
        "## Program: list_shortener"
      ],
      "metadata": {
        "id": "xCtfPPG5JrO5"
      }
    },
    {
      "cell_type": "code",
      "source": [
        "print(\"🔹 Welcome to the List Shortener Program 🔹\")\n",
        "\n",
        "MAX_LENGTH:int = 3\n",
        "\n",
        "def shorten(lst):\n",
        "     \"\"\"\n",
        "     Removes elements from the end of the list until it contains MAX_LENGTH items.\n",
        "     Prints each removed item.\n",
        "     \"\"\"\n",
        "     while len(lst) > MAX_LENGTH:\n",
        "        removed_element = lst.pop()\n",
        "        print(f\"🗑️ Removed: {removed_element}\")\n",
        "\n",
        "def get_list():\n",
        "    \"\"\"\n",
        "    Continuously prompts the user to enter elements into a list.\n",
        "    Stops when the user presses Enter without typing anything.\n",
        "    \"\"\"\n",
        "    lst = []\n",
        "    while True:\n",
        "       element = input(\"➤ Enter an element to add to the list (or press Enter to stop.)\")\n",
        "       if element == \"\":\n",
        "          break\n",
        "       lst.append(element)\n",
        "\n",
        "    return lst\n",
        "\n",
        "def main():\n",
        "    lst = get_list()\n",
        "\n",
        "    print(\"\\n 📃 Original List: \", lst)\n",
        "    shorten(lst)\n",
        "    print(\"✅ Final List after shortening:\", lst)\n",
        "\n",
        "if __name__ == \"__main__\":\n",
        "    main()\n"
      ],
      "metadata": {
        "colab": {
          "base_uri": "https://localhost:8080/"
        },
        "id": "NKi3bdpfJxHF",
        "outputId": "0c7a05c1-d447-412d-bb25-8f7dc43fbdf6"
      },
      "execution_count": 2,
      "outputs": [
        {
          "output_type": "stream",
          "name": "stdout",
          "text": [
            "🔹 Welcome to the List Shortener Program 🔹\n",
            "➤ Enter an element to add to the list (or press Enter to stop.)Apple\n",
            "➤ Enter an element to add to the list (or press Enter to stop.)Banana\n",
            "➤ Enter an element to add to the list (or press Enter to stop.)Strawbery\n",
            "➤ Enter an element to add to the list (or press Enter to stop.)Melon\n",
            "➤ Enter an element to add to the list (or press Enter to stop.)Grapes\n",
            "➤ Enter an element to add to the list (or press Enter to stop.)\n",
            "\n",
            " 📃 Original List:  ['Apple', 'Banana', 'Strawbery', 'Melon', 'Grapes']\n",
            "🗑️ Removed: Grapes\n",
            "🗑️ Removed: Melon\n",
            "✅ Final List after shortening: ['Apple', 'Banana', 'Strawbery']\n"
          ]
        }
      ]
    }
  ]
}