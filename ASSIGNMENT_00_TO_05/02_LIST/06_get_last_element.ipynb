{
  "nbformat": 4,
  "nbformat_minor": 0,
  "metadata": {
    "colab": {
      "provenance": [],
      "authorship_tag": "ABX9TyNH9dDhX+Oy/R74UpH8w1gc",
      "include_colab_link": true
    },
    "kernelspec": {
      "name": "python3",
      "display_name": "Python 3"
    },
    "language_info": {
      "name": "python"
    }
  },
  "cells": [
    {
      "cell_type": "markdown",
      "metadata": {
        "id": "view-in-github",
        "colab_type": "text"
      },
      "source": [
        "<a href=\"https://colab.research.google.com/github/Nazia-naz90/PROJECT_04_BY_nAZIA/blob/main/06_get_last_element.ipynb\" target=\"_parent\"><img src=\"https://colab.research.google.com/assets/colab-badge.svg\" alt=\"Open In Colab\"/></a>"
      ]
    },
    {
      "cell_type": "markdown",
      "source": [
        "# Program: last_element_finder"
      ],
      "metadata": {
        "id": "lGkB9ZVjw7dU"
      }
    },
    {
      "cell_type": "code",
      "source": [
        "print(\"🌟 Welcome to the Last Element Finder 🌟\")\n",
        "\n",
        "def get_last_element(lst):\n",
        "    \"\"\"Returns and prints the last element of the provided list.\"\"\"\n",
        "    last_element = lst[-1]\n",
        "    print(f\"✅ The last element in the list is: {last_element}\")\n",
        "    return last_element\n",
        "\n",
        "def get_list():\n",
        "    \"\"\"\n",
        "    Prompts the user to enter elements into a list one by one.\n",
        "    Returns the list of entered elements.\n",
        "    \"\"\"\n",
        "    lst = []\n",
        "    print(\"\\nEnter elements one by one. Press Enter on an empty line to finish.\")\n",
        "    while True:\n",
        "        element = input(f\"Element {len(lst) + 1}: \").strip()\n",
        "        if not element:  # Exit on empty input\n",
        "            break\n",
        "        lst.append(element)\n",
        "    return lst\n",
        "\n",
        "def main():\n",
        "    \"\"\"Main function to orchestrate the program flow.\"\"\"\n",
        "    try:\n",
        "        lst = get_list()\n",
        "\n",
        "        if not lst:\n",
        "            print(\"⚠️ No elements were entered. The list is empty!\")\n",
        "            return\n",
        "\n",
        "        print(f\"\\nYou entered {len(lst)} elements: {lst}\")\n",
        "        get_last_element(lst)\n",
        "\n",
        "    except KeyboardInterrupt:\n",
        "        print(\"\\n\\n⛔ Program interrupted by user. Exiting...\")\n",
        "    except Exception as e:\n",
        "        print(f\"\\n❌ An unexpected error occurred: {e}\")\n",
        "\n",
        "if __name__ == \"__main__\":\n",
        "    main()"
      ],
      "metadata": {
        "colab": {
          "base_uri": "https://localhost:8080/"
        },
        "id": "7q2gqBRcxAiC",
        "outputId": "66e69a8e-d170-4d74-e26f-6732675bfb0c"
      },
      "execution_count": 2,
      "outputs": [
        {
          "output_type": "stream",
          "name": "stdout",
          "text": [
            "🌟 Welcome to the Last Element Finder 🌟\n",
            "\n",
            "Enter elements one by one. Press Enter on an empty line to finish.\n",
            "Element 1: Imran Khan\n",
            "Element 2: Zia-ul-Haq\n",
            "Element 3: Allama Iqbal\n",
            "Element 4: \n",
            "\n",
            "You entered 3 elements: ['Imran Khan', 'Zia-ul-Haq', 'Allama Iqbal']\n",
            "✅ The last element in the list is: Allama Iqbal\n"
          ]
        }
      ]
    }
  ]
}