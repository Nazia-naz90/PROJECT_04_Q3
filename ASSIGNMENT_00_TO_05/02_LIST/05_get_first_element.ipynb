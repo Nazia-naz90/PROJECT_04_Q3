{
  "nbformat": 4,
  "nbformat_minor": 0,
  "metadata": {
    "colab": {
      "provenance": [],
      "authorship_tag": "ABX9TyMZpXWmNokZOxOTgR2A2q3b",
      "include_colab_link": true
    },
    "kernelspec": {
      "name": "python3",
      "display_name": "Python 3"
    },
    "language_info": {
      "name": "python"
    }
  },
  "cells": [
    {
      "cell_type": "markdown",
      "metadata": {
        "id": "view-in-github",
        "colab_type": "text"
      },
      "source": [
        "<a href=\"https://colab.research.google.com/github/Nazia-naz90/PROJECT_04_BY_nAZIA/blob/main/05_get_first_element.ipynb\" target=\"_parent\"><img src=\"https://colab.research.google.com/assets/colab-badge.svg\" alt=\"Open In Colab\"/></a>"
      ]
    },
    {
      "cell_type": "markdown",
      "source": [],
      "metadata": {
        "id": "Rm1IBaqUzkhI"
      }
    },
    {
      "cell_type": "markdown",
      "source": [
        "## Program: first_element_finder"
      ],
      "metadata": {
        "id": "IdFVi97Uwejs"
      }
    },
    {
      "cell_type": "code",
      "source": [
        "print(\"🔹 Welcome to the First Element Finder 🔹\")\n",
        "\n",
        "def get_first_element(lst):\n",
        "    \"\"\"Prints the first element of a provided list.\"\"\"\n",
        "    print(f\"✅ The first element in the list is: {lst[0]}\")\n",
        "\n",
        "def get_lst():\n",
        "    \"\"\"Prompts the user to enter elements into a list one by one.\"\"\"\n",
        "    lst = []\n",
        "    while True:\n",
        "        element = input(\"Enter an element to add to the list (or press Enter to finish): \").strip()\n",
        "        if not element:  # Exit on empty input\n",
        "          break\n",
        "        lst.append(element)\n",
        "    return lst\n",
        "\n",
        "def main():\n",
        "    lst = get_lst()\n",
        "    if lst:  # Ensure list is not empty before accessing index 0\n",
        "        get_first_element(lst)\n",
        "    else:\n",
        "        print(\"⚠️ No elements were entered. The list is empty!\")\n",
        "\n",
        "if __name__ == \"__main__\":\n",
        "    main()"
      ],
      "metadata": {
        "colab": {
          "base_uri": "https://localhost:8080/"
        },
        "id": "E3UNLIk6wkj8",
        "outputId": "34b01c3c-3104-4141-d4bf-85202b69c7f8"
      },
      "execution_count": 2,
      "outputs": [
        {
          "output_type": "stream",
          "name": "stdout",
          "text": [
            "🔹 Welcome to the First Element Finder 🔹\n",
            "Enter an element to add to the list (or press Enter to finish): Quad-e-Azam\n",
            "Enter an element to add to the list (or press Enter to finish): Allama Iqbal\n",
            "Enter an element to add to the list (or press Enter to finish): \n",
            "✅ The first element in the list is: Quad-e-Azam\n"
          ]
        }
      ]
    }
  ]
}