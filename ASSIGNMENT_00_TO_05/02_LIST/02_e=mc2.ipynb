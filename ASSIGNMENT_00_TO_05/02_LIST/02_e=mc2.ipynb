{
  "nbformat": 4,
  "nbformat_minor": 0,
  "metadata": {
    "colab": {
      "provenance": [],
      "authorship_tag": "ABX9TyPGpoe4USPAlFhBUHzaovM8",
      "include_colab_link": true
    },
    "kernelspec": {
      "name": "python3",
      "display_name": "Python 3"
    },
    "language_info": {
      "name": "python"
    }
  },
  "cells": [
    {
      "cell_type": "markdown",
      "metadata": {
        "id": "view-in-github",
        "colab_type": "text"
      },
      "source": [
        "<a href=\"https://colab.research.google.com/github/Nazia-naz90/PROJECT_04_BY_nAZIA/blob/main/02_e%3Dmc2.ipynb\" target=\"_parent\"><img src=\"https://colab.research.google.com/assets/colab-badge.svg\" alt=\"Open In Colab\"/></a>"
      ]
    },
    {
      "cell_type": "markdown",
      "source": [
        "## Program: Mass-Energy-Converter"
      ],
      "metadata": {
        "id": "5z4QcjOM-2BC"
      }
    },
    {
      "cell_type": "code",
      "source": [
        "\"\"\"\n",
        "This program calculates the energy equivalent of a given mass\n",
        "using Einstein’s famous equation: E = m * C^2.\n",
        "\n",
        "C (Speed of Light) = 299,792,458 m/s\n",
        "Mass is entered by the user in kilograms, and the output is in joules.\n",
        "\"\"\"\n",
        "\n",
        "\n",
        "# Define the speed of ligth as a constant\n",
        "C: int = 299_792_458  # Speed of light in meters per second (m/s)\n",
        "\n",
        "def calculate_energy(mass:float) -> float:\n",
        "\n",
        "    \"\"\"\n",
        "    Calculates energy using Einstein's equation: E = m * c^2.\n",
        "\n",
        "    :param mass: Mass in kilograms\n",
        "    :return: Energy in joules\n",
        "    \"\"\"\n",
        "\n",
        "    return mass * (C ** 2)\n",
        "\n",
        "def main():\n",
        "  \"\"\"\n",
        "  Main function to get user input , compute energy, and display the results.\n",
        "  Allows the user to perform multiple calculations.\n",
        "  \"\"\"\n",
        "  print(\"\\n🌟 Welcome to the Mass-Energy Converter! 🌟\")\n",
        "  print(\"💡 This program calculates energy (E) using Einstein's equation: E = m * C^2\\n\")\n",
        "\n",
        "  while True:\n",
        "     while True:\n",
        "         try:\n",
        "             # Get mass input from the user\n",
        "             mass_in_kg : float = float(input(\"🔢 Enter mass in kilograms (kg):\"))\n",
        "             if mass_in_kg < 0:\n",
        "                  print(\"⚠️ Mass cannot be negative. Please enter a positive value.\")\n",
        "                  continue\n",
        "             break\n",
        "         except ValueError:\n",
        "             print(\"❌ Invalid input! Please enter a valid numerical value.\")\n",
        "\n",
        "\n",
        "     # Calculate Energy\n",
        "     energy_in_joules:float = calculate_energy(mass_in_kg)\n",
        "\n",
        "     # Display Results\n",
        "     print(\"\\n 📜 Calculating...\\n\")\n",
        "     print(\"🧪 e = m * C^2...\")\n",
        "     print(f\"📌 m = {mass_in_kg} kg\")\n",
        "     print(f\"📌 C = {C} m/s\")\n",
        "     print(f\"\\n⚡ {energy_in_joules:.5e} joules of energy!\\n\")\n",
        "\n",
        "     print(\"✅ Calculation complete! 🚀\")\n",
        "\n",
        "     # Ask the user if they want to perform another calculation\n",
        "     while True:\n",
        "        restart = input(\"\\n 🔄 Would you like to perform another calculation? (yes/y): \").strip().lower()\n",
        "        if restart in [\"yes\",\"y\"]:\n",
        "             break # Restart loop for another calculation\n",
        "        elif restart in [\"no\" , \"n\"]:\n",
        "             print(\"\\n✅ Thanks for using the Mass-Energy Converter! Have a great day! 😊\")\n",
        "             return # # Exit program\n",
        "\n",
        "        else:\n",
        "            print(\"❌ Invalid input! Please enter 'yes'/'y' or 'no'/'n'.\")\n",
        "\n",
        "# Run the programe\n",
        "if __name__ == \"__main__\":\n",
        "   main()\n"
      ],
      "metadata": {
        "colab": {
          "base_uri": "https://localhost:8080/"
        },
        "id": "8zEiSkQJ-7Ij",
        "outputId": "da668afc-7a90-4dfe-b5e0-a6dffd863a5d"
      },
      "execution_count": 1,
      "outputs": [
        {
          "output_type": "stream",
          "name": "stdout",
          "text": [
            "\n",
            "🌟 Welcome to the Mass-Energy Converter! 🌟\n",
            "💡 This program calculates energy (E) using Einstein's equation: E = m * C^2\n",
            "\n",
            "🔢 Enter mass in kilograms (kg):50\n",
            "\n",
            " 📜 Calculating...\n",
            "\n",
            "🧪 e = m * C^2...\n",
            "📌 m = 50.0 kg\n",
            "📌 C = 299792458 m/s\n",
            "\n",
            "⚡ 4.49378e+18 joules of energy!\n",
            "\n",
            "✅ Calculation complete! 🚀\n",
            "\n",
            " 🔄 Would you like to perform another calculation? (yes/y): n\n",
            "\n",
            "✅ Thanks for using the Mass-Energy Converter! Have a great day! 😊\n"
          ]
        }
      ]
    }
  ]
}