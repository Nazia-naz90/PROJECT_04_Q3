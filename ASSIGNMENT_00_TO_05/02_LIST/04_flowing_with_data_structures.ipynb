{
  "nbformat": 4,
  "nbformat_minor": 0,
  "metadata": {
    "colab": {
      "provenance": [],
      "authorship_tag": "ABX9TyNCJ0qSvdqs4R7U2YUqQ09U",
      "include_colab_link": true
    },
    "kernelspec": {
      "name": "python3",
      "display_name": "Python 3"
    },
    "language_info": {
      "name": "python"
    }
  },
  "cells": [
    {
      "cell_type": "markdown",
      "metadata": {
        "id": "view-in-github",
        "colab_type": "text"
      },
      "source": [
        "<a href=\"https://colab.research.google.com/github/Nazia-naz90/PROJECT_04_BY_nAZIA/blob/main/04_flowing_with_data_structures.ipynb\" target=\"_parent\"><img src=\"https://colab.research.google.com/assets/colab-badge.svg\" alt=\"Open In Colab\"/></a>"
      ]
    },
    {
      "cell_type": "markdown",
      "source": [
        "# 📌 Program: Flowing with Data Structures"
      ],
      "metadata": {
        "id": "_L6gCUaKs_Ol"
      }
    },
    {
      "cell_type": "code",
      "source": [
        "\"\"\"\n",
        "This program demonstrates the concept of **mutability** in Python by modifying\n",
        "a list inside a function. The function adds three copies of the provided\n",
        "input message to the list **without returning it**.\n",
        "\"\"\"\n",
        "# Display program title\n",
        "print(\"\\n🔹 Welcome to the 'Flowing with Data Structures' Program 🔹\\n\")\n",
        "\n",
        "def add_copies(target_list:list,data:str) -> None:\n",
        "    \"\"\"\n",
        "     Adds three copies of 'data' to the given list.\n",
        "\n",
        "    :param target_list: List where data will be added.\n",
        "    :param data: The message to be appended three times.\n",
        "    \"\"\"\n",
        "    for _ in range(3):\n",
        "        target_list.append(data)\n",
        "\n",
        "def main():\n",
        "     \"\"\"\n",
        "    📌 Main function to execute the program.\n",
        "    - Takes user input for a message.\n",
        "    - Displays the list before and after modification.\n",
        "    - Demonstrates how lists (mutable objects) are modified within functions.\n",
        "    \"\"\"\n",
        "     message:str = input(\"✍️ Enter a message to copy : \").strip()\n",
        "     data_list: list[str] = [] # Initialize an empty list\n",
        "\n",
        "     print(\"\\n 📝 List before modification:\", data_list)\n",
        "     add_copies(data_list,message) #  Modify list inside the function\n",
        "     print(\"✅ List after modification:\" , data_list)\n",
        "\n",
        "     print(\"\\n🎯 The list was modified inside the function without returning it! 🎯\")\n",
        "\n",
        "if __name__ == \"__main__\":\n",
        "   main()\n"
      ],
      "metadata": {
        "colab": {
          "base_uri": "https://localhost:8080/"
        },
        "id": "xroKtbTXtEte",
        "outputId": "efd649eb-f55c-4e0c-c238-ce2e98f0fbfb"
      },
      "execution_count": 12,
      "outputs": [
        {
          "output_type": "stream",
          "name": "stdout",
          "text": [
            "\n",
            "🔹 Welcome to the 'Flowing with Data Structures' Program 🔹\n",
            "\n",
            "✍️ Enter a message to copy : Hello! How are you?\n",
            "\n",
            " 📝 List before modification: []\n",
            "✅ List after modification: ['Hello! How are you?', 'Hello! How are you?', 'Hello! How are you?']\n",
            "\n",
            "🎯 The list was modified inside the function without returning it! 🎯\n"
          ]
        }
      ]
    }
  ]
}