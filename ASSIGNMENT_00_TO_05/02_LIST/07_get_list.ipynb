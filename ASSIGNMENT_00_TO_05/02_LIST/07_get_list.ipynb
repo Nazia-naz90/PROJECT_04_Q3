{
  "nbformat": 4,
  "nbformat_minor": 0,
  "metadata": {
    "colab": {
      "provenance": [],
      "authorship_tag": "ABX9TyOJqeau7a8ToAmRbpKZya0+",
      "include_colab_link": true
    },
    "kernelspec": {
      "name": "python3",
      "display_name": "Python 3"
    },
    "language_info": {
      "name": "python"
    }
  },
  "cells": [
    {
      "cell_type": "markdown",
      "metadata": {
        "id": "view-in-github",
        "colab_type": "text"
      },
      "source": [
        "<a href=\"https://colab.research.google.com/github/Nazia-naz90/PROJECT_04_BY_nAZIA/blob/main/07_get_list.ipynb\" target=\"_parent\"><img src=\"https://colab.research.google.com/assets/colab-badge.svg\" alt=\"Open In Colab\"/></a>"
      ]
    },
    {
      "cell_type": "markdown",
      "source": [
        "## Program: dynamic_list_creator"
      ],
      "metadata": {
        "id": "fn4YiY-c3QYF"
      }
    },
    {
      "cell_type": "code",
      "source": [
        "print(\"🌟 Welcome to the Dynamic List Creator 🌟\")\n",
        "\n",
        "def get_list():\n",
        "    \"\"\"\n",
        "    Continuously asks the user to enter values into a list until they press Enter.\n",
        "    Returns the constructed list.\n",
        "    \"\"\"\n",
        "    lst = []\n",
        "    print(\"\\n Enter values one by one. Press Enter on an empty line to finish.\")\n",
        "\n",
        "    while True:\n",
        "        val = input(\"➤ Enter a value (or press Enter to finish): \").strip()\n",
        "        if not val:  # Exit if input is empty\n",
        "            break\n",
        "        lst.append(val)\n",
        "\n",
        "    return lst\n",
        "\n",
        "def main():\n",
        "    \"\"\"Main function to handle list creation and display.\"\"\"\n",
        "    try:\n",
        "        lst = get_list()\n",
        "\n",
        "        if not lst:  # Check if the list is empty\n",
        "            print(\"\\n⚠️ No values entered. The list is empty!\")\n",
        "        else:\n",
        "            print(f\"\\n✅ Your list: {lst}\")\n",
        "            print(f\"🔢 Number of items: {len(lst)}\")\n",
        "\n",
        "    except KeyboardInterrupt:\n",
        "        print(\"\\n\\n⛔ Program interrupted by user. Exiting...\")\n",
        "    except Exception as e:\n",
        "        print(f\"\\n❌ An error occurred: {e}\")\n",
        "\n",
        "if __name__ == \"__main__\":\n",
        "    main()"
      ],
      "metadata": {
        "colab": {
          "base_uri": "https://localhost:8080/"
        },
        "id": "5P2T092o7dms",
        "outputId": "ed42f896-cf5c-4f51-fa40-c43519dab131"
      },
      "execution_count": 6,
      "outputs": [
        {
          "output_type": "stream",
          "name": "stdout",
          "text": [
            "🌟 Welcome to the Dynamic List Creator 🌟\n",
            "\n",
            " Enter values one by one. Press Enter on an empty line to finish.\n",
            "➤ Enter a value (or press Enter to finish): Apple\n",
            "➤ Enter a value (or press Enter to finish): Mango\n",
            "➤ Enter a value (or press Enter to finish): Strawberry\n",
            "➤ Enter a value (or press Enter to finish): Maxmellon\n",
            "➤ Enter a value (or press Enter to finish): Watermellon\n",
            "➤ Enter a value (or press Enter to finish): Grapes\n",
            "➤ Enter a value (or press Enter to finish): \n",
            "\n",
            "✅ Your list: ['Apple', 'Mango', 'Strawberry', 'Maxmellon', 'Watermellon', 'Grapes']\n",
            "🔢 Number of items: 6\n"
          ]
        }
      ]
    }
  ]
}