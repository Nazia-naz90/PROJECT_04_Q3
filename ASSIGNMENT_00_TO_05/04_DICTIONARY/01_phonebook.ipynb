{
  "nbformat": 4,
  "nbformat_minor": 0,
  "metadata": {
    "colab": {
      "provenance": [],
      "authorship_tag": "ABX9TyMVZNzJfFfG2/8Ab/aG46/Z",
      "include_colab_link": true
    },
    "kernelspec": {
      "name": "python3",
      "display_name": "Python 3"
    },
    "language_info": {
      "name": "python"
    }
  },
  "cells": [
    {
      "cell_type": "markdown",
      "metadata": {
        "id": "view-in-github",
        "colab_type": "text"
      },
      "source": [
        "<a href=\"https://colab.research.google.com/github/Nazia-naz90/PROJECT_04_BY_nAZIA/blob/main/01_phonebook.ipynb\" target=\"_parent\"><img src=\"https://colab.research.google.com/assets/colab-badge.svg\" alt=\"Open In Colab\"/></a>"
      ]
    },
    {
      "cell_type": "markdown",
      "source": [
        "## Program: phonebook_manager"
      ],
      "metadata": {
        "id": "a69avNKpWGLk"
      }
    },
    {
      "cell_type": "code",
      "source": [
        "\"\"\"\n",
        "📞 Phonebook Management System ☎️\n",
        " ---------------------------------\n",
        " 🔹 Add contacts (Name & Phone Number)\n",
        "🔹 View all saved contacts\n",
        "🔹 Search for a contact using a partial or full name\n",
        "🔹 Exit when finished\n",
        "\n",
        " Developed by: Nazia Naz\n",
        " \"\"\"\n",
        "\n",
        "def read_phone_numbers():\n",
        "    \"\"\"\n",
        "    Collects all names and phone numbers from the user and stores them in a dictionary.\n",
        "    Returns the dictionary containing the phonebook.\n",
        "    \"\"\"\n",
        "\n",
        "    phonebook = {}\n",
        "\n",
        "    while True:\n",
        "      name = input(\"Enter contact name (or press Enter to stop ):\").strip()\n",
        "      if name == \"\":\n",
        "         break\n",
        "      number = input(f\"Enter phone number for {name}:\").strip()\n",
        "      phonebook[name] = number\n",
        "\n",
        "      return phonebook\n",
        "\n",
        "def print_phonebook(phonebook):\n",
        "    \"\"\"\n",
        "    Displays all contacts stored in the phonebook.\n",
        "    \"\"\"\n",
        "    if not phonebook:\n",
        "        print(\"\\n 📌 The phonebook is empty. Add contacts first!\\n\")\n",
        "        return\n",
        "\n",
        "    print(\"\\n 📖 Phonebook Entries:\")\n",
        "    print(\"-\" * 30)\n",
        "    for name, number in phonebook.items():\n",
        "        print(f\"📌 {name} -> {number}\")\n",
        "    print(\"-\" * 30)\n",
        "\n",
        "def lookup_numbers(phonebook):\n",
        "    \"\"\"\n",
        "    Allows the user to search fr a contact's phone number by full or partial name.\n",
        "    \"\"\"\n",
        "    while True:\n",
        "        search_query = input(\"\\n 🔍 Enter name to look up (or press Enter to stop):\").strip()\n",
        "        if search_query == \"\":\n",
        "            break\n",
        "\n",
        "        matches = {name:number for name, number in phonebook.items() if search_query.lower() in name.lower()}\n",
        "\n",
        "        if matches:\n",
        "             print(\"\\n🔎 Found Contacts:\")\n",
        "             for name, number in matches.items():\n",
        "                 print(f\"✅ {name}: {number}\")\n",
        "\n",
        "        else:\n",
        "           print(f\"❌ No contacts found for '{search_query}'.\")\n",
        "\n",
        "def main():\n",
        "    \"\"\"\n",
        "    Main function that runs the phonebook program.\n",
        "    \"\"\"\n",
        "    print(\"\\n 📞 Welcome to the phonebook Management System! 📞\\n\")\n",
        "\n",
        "    phonebook = read_phone_numbers() # Step 1 : Collect contacts\n",
        "    print_phonebook(phonebook) # Step 2: Display all contacts\n",
        "    lookup_numbers(phonebook) # Step 3: Allow searching for contacts\n",
        "\n",
        "    print(\"\\n📴 Exiting Phonebook. Have a great day! 😊\")\n",
        "\n",
        "if __name__ == \"__main__\":\n",
        "    main()\n",
        "\n",
        "\n"
      ],
      "metadata": {
        "colab": {
          "base_uri": "https://localhost:8080/"
        },
        "id": "3KpyXLYUWL1e",
        "outputId": "a8c7c4d3-1947-4ea4-db03-854da18881a4"
      },
      "execution_count": 2,
      "outputs": [
        {
          "output_type": "stream",
          "name": "stdout",
          "text": [
            "\n",
            " 📞 Welcome to the phonebook Management System! 📞\n",
            "\n",
            "Enter contact name (or press Enter to stop ):Nazia\n",
            "Enter phone number for Nazia:03362016185\n",
            "\n",
            " 📖 Phonebook Entries:\n",
            "------------------------------\n",
            "📌 Nazia -> 03362016185\n",
            "------------------------------\n",
            "\n",
            " 🔍 Enter name to look up (or press Enter to stop):Nazia\n",
            "\n",
            "🔎 Found Contacts:\n",
            "✅ Nazia: 03362016185\n",
            "\n",
            " 🔍 Enter name to look up (or press Enter to stop):\n",
            "\n",
            "📴 Exiting Phonebook. Have a great day! 😊\n"
          ]
        }
      ]
    }
  ]
}