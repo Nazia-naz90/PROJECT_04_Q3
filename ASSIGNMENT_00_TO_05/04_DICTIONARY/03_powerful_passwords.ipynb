{
  "nbformat": 4,
  "nbformat_minor": 0,
  "metadata": {
    "colab": {
      "provenance": [],
      "authorship_tag": "ABX9TyOYCdv27Vjv+H8+jrPcjCNy",
      "include_colab_link": true
    },
    "kernelspec": {
      "name": "python3",
      "display_name": "Python 3"
    },
    "language_info": {
      "name": "python"
    }
  },
  "cells": [
    {
      "cell_type": "markdown",
      "metadata": {
        "id": "view-in-github",
        "colab_type": "text"
      },
      "source": [
        "<a href=\"https://colab.research.google.com/github/Nazia-naz90/PROJECT_04_BY_nAZIA/blob/main/03_powerful_passwords.ipynb\" target=\"_parent\"><img src=\"https://colab.research.google.com/assets/colab-badge.svg\" alt=\"Open In Colab\"/></a>"
      ]
    },
    {
      "cell_type": "markdown",
      "source": [
        "## Program: secure_login"
      ],
      "metadata": {
        "id": "N9liX6_X_YtQ"
      }
    },
    {
      "cell_type": "code",
      "source": [
        "import hashlib\n",
        "\n",
        "print(\"03_powerful_passwords\")\n",
        "\n",
        "def hash_password(password):\n",
        "  return hashlib.sha256(password.encode()).hexdigest()\n",
        "\n",
        "stored_logins = {\n",
        "    \"user@example.com\":hash_password(\"password123\"),\n",
        "    \"admin@example.com\":hash_password(\"adminpass\")\n",
        "}\n",
        "def login(email,password):\n",
        "   if email in stored_logins:\n",
        "      return stored_logins[email] == hash_password(password)\n",
        "   return False\n",
        "\n",
        "if __name__ == \"__main__\":\n",
        "   email = input(\"Enter Your password:\")\n",
        "   password = input(\"Enter your password:\")\n",
        "\n",
        "   if login(email,password):\n",
        "     print(\"Login successful\")\n",
        "   else:\n",
        "     print(\"Invalid email or password.\")\n",
        "\n",
        "\n",
        "\n",
        "\n",
        "\n"
      ],
      "metadata": {
        "colab": {
          "base_uri": "https://localhost:8080/"
        },
        "id": "KbbFYcHw_a-l",
        "outputId": "787f1f4c-0250-4232-c26c-4fbb80a99adc"
      },
      "execution_count": 1,
      "outputs": [
        {
          "output_type": "stream",
          "name": "stdout",
          "text": [
            "03_powerful_passwords\n",
            "Enter Your password:user@example.com\n",
            "Enter your password:password123\n",
            "Login successful\n"
          ]
        }
      ]
    }
  ]
}