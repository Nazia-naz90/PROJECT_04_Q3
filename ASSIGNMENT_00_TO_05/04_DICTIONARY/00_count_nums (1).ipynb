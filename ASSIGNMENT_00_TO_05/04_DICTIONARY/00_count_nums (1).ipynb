{
  "nbformat": 4,
  "nbformat_minor": 0,
  "metadata": {
    "colab": {
      "provenance": [],
      "authorship_tag": "ABX9TyOuPrK3Fn3TIE9l+ZG9E9vP",
      "include_colab_link": true
    },
    "kernelspec": {
      "name": "python3",
      "display_name": "Python 3"
    },
    "language_info": {
      "name": "python"
    }
  },
  "cells": [
    {
      "cell_type": "markdown",
      "metadata": {
        "id": "view-in-github",
        "colab_type": "text"
      },
      "source": [
        "<a href=\"https://colab.research.google.com/github/Nazia-naz90/PROJECT_04_BY_nAZIA/blob/main/00_count_nums.ipynb\" target=\"_parent\"><img src=\"https://colab.research.google.com/assets/colab-badge.svg\" alt=\"Open In Colab\"/></a>"
      ]
    },
    {
      "cell_type": "markdown",
      "source": [
        "# Program: number_frequency"
      ],
      "metadata": {
        "id": "wt0uO3epNUSk"
      }
    },
    {
      "cell_type": "code",
      "source": [
        "def get_user_numbers():\n",
        "    \"\"\"\n",
        "    Continuously prompts the user to enter numbers and stores them in a list.\n",
        "    Stops when the user enters a blank line and returns the list.\n",
        "    \"\"\"\n",
        "    numbers = []\n",
        "    while True:\n",
        "       user_input = input(\"🔢 Enter a number (or press Enter to finish):\")\n",
        "\n",
        "       if user_input == \"\": # Stop when the user enters a blank line\n",
        "           break\n",
        "\n",
        "       if user_input.isdigit(): # Ensure input is a valid number\n",
        "           numbers.append(int(user_input))\n",
        "       else:\n",
        "          print(\"❌ Invalid input! Please enter a valid number.\")\n",
        "\n",
        "    return numbers\n",
        "\n",
        "def count_numbers(numbers):\n",
        "    \"\"\"\n",
        "    Counts the occurrences of each number in the list using a dictionary.\n",
        "    Returns the dictionary with counts.\n",
        "    \"\"\"\n",
        "    count_dict = {}\n",
        "    for num in numbers:\n",
        "        count_dict[num] = count_dict.get(num,0) + 1 #  # Increment count for each number\n",
        "\n",
        "    return count_dict\n",
        "\n",
        "def print_counts(count_dict):\n",
        "    \"\"\"\n",
        "    Prints each number along with how many times it appears.\n",
        "    \"\"\"\n",
        "    print(\"\\n 📊 Number Frequency Count:\")\n",
        "    for num, count in sorted(count_dict.items()):\n",
        "        print(f\"✅ {num} appears {count} time(s).\")\n",
        "\n",
        "def main():\n",
        "    \"\"\"\n",
        "    Runs the full program:\n",
        "    1️⃣ Gets numbers from the user\n",
        "    2️⃣ Counts occurrences using a dictionary\n",
        "    3️⃣ Displays the results\n",
        "    4️⃣ Allows the user to restart or exit\n",
        "    \"\"\"\n",
        "    print(\"🎯 Welcome to the Number Frequency Counter! \\n\")\n",
        "\n",
        "    while True:\n",
        "        numbers = get_user_numbers()\n",
        "\n",
        "        if not numbers: # If numbers were entered\n",
        "            print(\"⚠️ No numbers entered. Exiting program.\")\n",
        "            break\n",
        "\n",
        "        count_dict = count_numbers(numbers)\n",
        "        print_counts(count_dict)\n",
        "\n",
        "        # Ask the user if they want to restart\n",
        "        while True:\n",
        "            restart = input(\"\\n🔄 Would you like to analyse another set of number? (yes or no ):\").strip().lower()\n",
        "            if restart in [\"yes\" , \"y\"]:\n",
        "                break # Restart the loop\n",
        "            elif restart in [\"no\" , \"n\"]:\n",
        "                print(\"\\n👋 Thanks for using the Number Frequency Counter! Have a great day! 😊\")\n",
        "                return # Exit the program\n",
        "            else:\n",
        "               print(\"❌ Invalid input! Please enter 'yes' or 'no'.\")\n",
        "\n",
        "if __name__ == \"__main__\":\n",
        "    main()\n",
        "\n"
      ],
      "metadata": {
        "colab": {
          "base_uri": "https://localhost:8080/"
        },
        "id": "dpdcLRBtNbOE",
        "outputId": "a7089774-1d93-4581-da12-b22f2ceedf3e"
      },
      "execution_count": 2,
      "outputs": [
        {
          "output_type": "stream",
          "name": "stdout",
          "text": [
            "🎯 Welcome to the Number Frequency Counter! \n",
            "\n",
            "🔢 Enter a number (or press Enter to finish):313\n",
            "🔢 Enter a number (or press Enter to finish):421\n",
            "🔢 Enter a number (or press Enter to finish):313\n",
            "🔢 Enter a number (or press Enter to finish):505\n",
            "🔢 Enter a number (or press Enter to finish):786\n",
            "🔢 Enter a number (or press Enter to finish):\n",
            "\n",
            " 📊 Number Frequency Count:\n",
            "✅ 313 appears 2 time(s).\n",
            "✅ 421 appears 1 time(s).\n",
            "✅ 505 appears 1 time(s).\n",
            "✅ 786 appears 1 time(s).\n",
            "\n",
            "🔄 Would you like to analyse another set of number? (yes or no ):n\n",
            "\n",
            "👋 Thanks for using the Number Frequency Counter! Have a great day! 😊\n"
          ]
        }
      ]
    }
  ]
}