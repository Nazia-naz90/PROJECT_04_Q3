{
  "nbformat": 4,
  "nbformat_minor": 0,
  "metadata": {
    "colab": {
      "provenance": [],
      "authorship_tag": "ABX9TyPidI6wrLOUWPNKvYR/twfL",
      "include_colab_link": true
    },
    "kernelspec": {
      "name": "python3",
      "display_name": "Python 3"
    },
    "language_info": {
      "name": "python"
    }
  },
  "cells": [
    {
      "cell_type": "markdown",
      "metadata": {
        "id": "view-in-github",
        "colab_type": "text"
      },
      "source": [
        "<a href=\"https://colab.research.google.com/github/Nazia-naz90/PROJECT_04_BY_nAZIA/blob/main/02_pop_up_shop.ipynb\" target=\"_parent\"><img src=\"https://colab.research.google.com/assets/colab-badge.svg\" alt=\"Open In Colab\"/></a>"
      ]
    },
    {
      "cell_type": "markdown",
      "source": [
        "# Program: fruit_shop_calculator"
      ],
      "metadata": {
        "id": "kvPqJHLBiWfV"
      }
    },
    {
      "cell_type": "code",
      "source": [
        "# 🍎🍌🍌🍇 Welcome to the Fruit Shop CalCulator 🍎🍌🍌🍇\n",
        "def calculate_total_cost():\n",
        "    \"\"\"\n",
        "    This function calculates the total cost of fruits based on user input.\n",
        "    It loops through a dictionary of fruit prices, asks the user for the quantity of each fruit,\n",
        "    and then calculates the total bill.\n",
        "    \"\"\"\n",
        "    # Dictionary of available fruits and their prices per unit ($)\n",
        "    fruit_prices = {\n",
        "        'apple': 50,\n",
        "        'mango':60,\n",
        "        'strawberry':58,\n",
        "        'kiwi': 35,\n",
        "        'mellon':100\n",
        "    }\n",
        "\n",
        "    total_cost = 0 # Initialize total cost\n",
        "\n",
        "    print(\"\\n 🛒 Welcome to the Fruit Shop! Let's calculate your total cost. 🛒\\n\")\n",
        "\n",
        "    for fruit, price in fruit_prices.items():\n",
        "        while True: # Ensure valid input\n",
        "           try:\n",
        "              quantity = input(f\"How many ({fruit}) do you want to buy? (Enter 0 if none): \")\n",
        "\n",
        "              if quantity.strip() == \"\": # Allow user to exit early\n",
        "                 print(\"\\n 🚪 Exiting early . Calculating total cost....\\n\")\n",
        "                 break\n",
        "\n",
        "              quantity = int(quantity)\n",
        "\n",
        "              if quantity < 0 :\n",
        "                   print(\"❌ Please enter a valid non-negative number\")\n",
        "                   continue\n",
        "\n",
        "              total_cost += price * quantity\n",
        "              break # Exit the loop if input is valid\n",
        "\n",
        "           except ValueError:\n",
        "               print(\"⚠️ Invalid input! Please enter a valid integer.\")\n",
        "\n",
        "    # Print the total cost with formating\n",
        "    print(f\"\\n 💰 Your total amount is $ {total_cost:.2f}. Thank You For Shopping here! 🍏🍎🍌🍇\\n \")\n",
        "\n",
        "# Run the program\n",
        "if __name__ == \"__main__\":\n",
        "   calculate_total_cost()"
      ],
      "metadata": {
        "colab": {
          "base_uri": "https://localhost:8080/"
        },
        "id": "U_DQPvs8idRZ",
        "outputId": "6035d541-effb-480a-c70b-98e7b27ce4c2"
      },
      "execution_count": 1,
      "outputs": [
        {
          "output_type": "stream",
          "name": "stdout",
          "text": [
            "\n",
            " 🛒 Welcome to the Fruit Shop! Let's calculate your total cost. 🛒\n",
            "\n",
            "How many (apple) do you want to buy? (Enter 0 if none): 8\n",
            "How many (mango) do you want to buy? (Enter 0 if none): 5\n",
            "How many (strawberry) do you want to buy? (Enter 0 if none): 30\n",
            "How many (kiwi) do you want to buy? (Enter 0 if none): 15\n",
            "How many (mellon) do you want to buy? (Enter 0 if none): 2\n",
            "\n",
            " 💰 Your total amount is $ 3165.00. Thank You For Shopping here! 🍏🍎🍌🍇\n",
            " \n"
          ]
        }
      ]
    }
  ]
}