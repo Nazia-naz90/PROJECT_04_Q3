{
  "nbformat": 4,
  "nbformat_minor": 0,
  "metadata": {
    "colab": {
      "provenance": [],
      "authorship_tag": "ABX9TyOMUTm6oxTOEcLR/fN7x56I",
      "include_colab_link": true
    },
    "kernelspec": {
      "name": "python3",
      "display_name": "Python 3"
    },
    "language_info": {
      "name": "python"
    }
  },
  "cells": [
    {
      "cell_type": "markdown",
      "metadata": {
        "id": "view-in-github",
        "colab_type": "text"
      },
      "source": [
        "<a href=\"https://colab.research.google.com/github/Nazia-naz90/PROJECT_04_BY_nAZIA/blob/main/02_liftoff.ipynb\" target=\"_parent\"><img src=\"https://colab.research.google.com/assets/colab-badge.svg\" alt=\"Open In Colab\"/></a>"
      ]
    },
    {
      "cell_type": "markdown",
      "source": [
        "# Program: countdown_liftoff"
      ],
      "metadata": {
        "id": "FeROoZA0WT1K"
      }
    },
    {
      "cell_type": "code",
      "source": [
        "import time\n",
        "\n",
        "def main():\n",
        "   \"\"\" 🚀 A program that performs a countdown for a spaceship launch. \"\"\"\n",
        "   print(\"\\n🚀 Initiating Countdown Sequence...\\n\")\n",
        "\n",
        "    # 🔄 Countdown from 10 to 1\n",
        "   for i in range(10,0,-1): # ✅ Loop from 10 to 1 (decreasing order)\n",
        "      print(f\"⏳ {i}\")  # ✅ Display the countdown\n",
        "      time.sleep(1) # ⏳ Pause for 1 second for a realistic effect\n",
        "\n",
        "   print(\"\\n🔥 Liftoff! 🚀🌍\") # ✅ Print Liftoff after countdown completes\n",
        "\n",
        "\n",
        "# Run the program\n",
        "if __name__ == \"__main__\":\n",
        "    main()\n"
      ],
      "metadata": {
        "colab": {
          "base_uri": "https://localhost:8080/"
        },
        "id": "RWVxM1VzWbL8",
        "outputId": "557eff74-15e3-4eb4-9801-f27985de141f"
      },
      "execution_count": 2,
      "outputs": [
        {
          "output_type": "stream",
          "name": "stdout",
          "text": [
            "\n",
            "🚀 Initiating Countdown Sequence...\n",
            "\n",
            "⏳ 10\n",
            "⏳ 9\n",
            "⏳ 8\n",
            "⏳ 7\n",
            "⏳ 6\n",
            "⏳ 5\n",
            "⏳ 4\n",
            "⏳ 3\n",
            "⏳ 2\n",
            "⏳ 1\n",
            "\n",
            "🔥 Liftoff! 🚀🌍\n"
          ]
        }
      ]
    }
  ]
}