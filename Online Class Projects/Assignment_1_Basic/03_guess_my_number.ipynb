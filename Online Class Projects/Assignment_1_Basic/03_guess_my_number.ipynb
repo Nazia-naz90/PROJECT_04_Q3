{
  "nbformat": 4,
  "nbformat_minor": 0,
  "metadata": {
    "colab": {
      "provenance": [],
      "gpuType": "T4",
      "authorship_tag": "ABX9TyPUpXggfCEDZ9BYqiuRgrBd",
      "include_colab_link": true
    },
    "kernelspec": {
      "name": "python3",
      "display_name": "Python 3"
    },
    "language_info": {
      "name": "python"
    },
    "accelerator": "GPU"
  },
  "cells": [
    {
      "cell_type": "markdown",
      "metadata": {
        "id": "view-in-github",
        "colab_type": "text"
      },
      "source": [
        "<a href=\"https://colab.research.google.com/github/Nazia-naz90/PROJECT_04_BY_nAZIA/blob/main/03_guess_my_number.ipynb\" target=\"_parent\"><img src=\"https://colab.research.google.com/assets/colab-badge.svg\" alt=\"Open In Colab\"/></a>"
      ]
    },
    {
      "cell_type": "markdown",
      "source": [
        "# Program: guess_the_number"
      ],
      "metadata": {
        "id": "BxsS9UeFZyj0"
      }
    },
    {
      "cell_type": "code",
      "source": [
        "import random\n",
        "\n",
        "def guess_the_number():\n",
        "\n",
        "    \"\"\" 🎯 A fun number guessing game where the user must guess the correct number. \"\"\"\n",
        "\n",
        "    secret_number:int = random.randint(0,99) # ✅ Generate a random number between 0-99\n",
        "    attempts : int = 0  # ✅ Track the number of attempts\n",
        "\n",
        "    print(\"\\n🔢 Welcome to the Number Guessing Game! 🔢\")\n",
        "    print(\"🤔 I am thinking of a number between 0 and 99... Can you guess it?\\n\")\n",
        "\n",
        "    while True:\n",
        "        try:\n",
        "          guess: int = int(input(\"🎯 Enter your guess:\")) # ✅ Get the user input and convert to integer\n",
        "          attempts += 1  # ✅ Increment attempt count\n",
        "\n",
        "          if guess < 0 or guess > 99:\n",
        "             print(\"🚨 Out of range! Please enter a number between 0 and 99.\\n\")\n",
        "\n",
        "          elif guess < secret_number:\n",
        "               print(\"📉 Too low! Try again.\\n\")\n",
        "          elif guess > secret_number :\n",
        "               print(\"📈 Too high! Try again.\\n\")\n",
        "          else:\n",
        "              print(f\"\\n🎉 Congrats! The number was {secret_number}. You guessed it in {attempts} attempts.🏆\\n\")\n",
        "              break   # ✅ Exit the loop when guessed correctly\n",
        "\n",
        "        except ValueError:\n",
        "           print(\"❌ Invalid input! Please enter a valid number.\\n\")\n",
        "\n",
        "# Run the game\n",
        "if __name__ == \"__main__\":\n",
        "    guess_the_number()\n",
        "\n"
      ],
      "metadata": {
        "colab": {
          "base_uri": "https://localhost:8080/"
        },
        "id": "kHmVTuIgZ4Zc",
        "outputId": "dc28bfeb-9c3b-4a3b-f1a9-07b27a518067"
      },
      "execution_count": 2,
      "outputs": [
        {
          "output_type": "stream",
          "name": "stdout",
          "text": [
            "\n",
            "🔢 Welcome to the Number Guessing Game! 🔢\n",
            "🤔 I am thinking of a number between 0 and 99... Can you guess it?\n",
            "\n",
            "🎯 Enter your guess:40\n",
            "📉 Too low! Try again.\n",
            "\n",
            "🎯 Enter your guess:50\n",
            "📉 Too low! Try again.\n",
            "\n",
            "🎯 Enter your guess:60\n",
            "📉 Too low! Try again.\n",
            "\n",
            "🎯 Enter your guess:70\n",
            "📈 Too high! Try again.\n",
            "\n",
            "🎯 Enter your guess:61\n",
            "📉 Too low! Try again.\n",
            "\n",
            "🎯 Enter your guess:62\n",
            "📉 Too low! Try again.\n",
            "\n",
            "🎯 Enter your guess:65\n",
            "📉 Too low! Try again.\n",
            "\n",
            "🎯 Enter your guess:67\n",
            "📉 Too low! Try again.\n",
            "\n",
            "🎯 Enter your guess:68\n",
            "📉 Too low! Try again.\n",
            "\n",
            "🎯 Enter your guess:69\n",
            "\n",
            "🎉 Congrats! The number was 69. You guessed it in 10 attempts.🏆\n",
            "\n"
          ]
        }
      ]
    }
  ]
}