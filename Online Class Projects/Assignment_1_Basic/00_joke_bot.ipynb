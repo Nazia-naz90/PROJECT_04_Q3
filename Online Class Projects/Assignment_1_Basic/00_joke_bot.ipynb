{
  "nbformat": 4,
  "nbformat_minor": 0,
  "metadata": {
    "colab": {
      "provenance": [],
      "authorship_tag": "ABX9TyOrD34ndztYGS6/XgFBoWvf",
      "include_colab_link": true
    },
    "kernelspec": {
      "name": "python3",
      "display_name": "Python 3"
    },
    "language_info": {
      "name": "python"
    }
  },
  "cells": [
    {
      "cell_type": "markdown",
      "metadata": {
        "id": "view-in-github",
        "colab_type": "text"
      },
      "source": [
        "<a href=\"https://colab.research.google.com/github/Nazia-naz90/PROJECT_04_BY_nAZIA/blob/main/00_joke_bot.ipynb\" target=\"_parent\"><img src=\"https://colab.research.google.com/assets/colab-badge.svg\" alt=\"Open In Colab\"/></a>"
      ]
    },
    {
      "cell_type": "markdown",
      "source": [
        "## Program: joke_bot"
      ],
      "metadata": {
        "id": "svxzGXrSIRso"
      }
    },
    {
      "cell_type": "code",
      "source": [
        "# 🎭 Constants\n",
        "PROMPT:str = \"🗨️ What do you want?\"\n",
        "JOKE:str = \"\"\"😂 Here is a joke for you!\n",
        "🧟 Zombie: \"Brains… need… code…\"\n",
        "🤖 AI Robot: \"Sorry, I only speak Python.\"\n",
        "💻 Zombie: [Tries to eat a laptop]\n",
        "⚡ Robot: \"Error 404: Brains not found.\" \"\"\"\n",
        "SORRY:str = \"❌ Sorry , I only tell jokes.\"\n",
        "\n",
        "def main():\n",
        "     \"\"\" 🤖 A simple joke bot that only responds to 'Joke' . \"\"\"\n",
        "     # Ask the user what they want\n",
        "     user_input = input(PROMPT).strip().lower() # ✅ Normalize input\n",
        "\n",
        "     if user_input == \"joke\":\n",
        "        print(JOKE)  # ✅ Print joke if input is \"Joke\"\n",
        "     else:\n",
        "        print(SORRY)  # ❌ Print sorry message if input is anything else\n",
        "\n",
        "# Run the program\n",
        "if __name__ == \"__main__\":\n",
        "    main()\n"
      ],
      "metadata": {
        "colab": {
          "base_uri": "https://localhost:8080/"
        },
        "id": "4Q7PINTxImS5",
        "outputId": "22a6304d-105d-4d6d-956d-3e1a2e889f37"
      },
      "execution_count": 3,
      "outputs": [
        {
          "output_type": "stream",
          "name": "stdout",
          "text": [
            "🗨️ What do you want?joke\n",
            "😂 Here is a joke for you!\n",
            "🧟 Zombie: \"Brains… need… code…\"\n",
            "🤖 AI Robot: \"Sorry, I only speak Python.\"\n",
            "💻 Zombie: [Tries to eat a laptop]\n",
            "⚡ Robot: \"Error 404: Brains not found.\" \n"
          ]
        }
      ]
    }
  ]
}