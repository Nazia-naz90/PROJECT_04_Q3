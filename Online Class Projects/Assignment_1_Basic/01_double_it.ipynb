{
  "nbformat": 4,
  "nbformat_minor": 0,
  "metadata": {
    "colab": {
      "provenance": [],
      "authorship_tag": "ABX9TyONjTkie9gFj8qpp8FuNrIP",
      "include_colab_link": true
    },
    "kernelspec": {
      "name": "python3",
      "display_name": "Python 3"
    },
    "language_info": {
      "name": "python"
    }
  },
  "cells": [
    {
      "cell_type": "markdown",
      "metadata": {
        "id": "view-in-github",
        "colab_type": "text"
      },
      "source": [
        "<a href=\"https://colab.research.google.com/github/Nazia-naz90/PROJECT_04_BY_nAZIA/blob/main/01_double_it.ipynb\" target=\"_parent\"><img src=\"https://colab.research.google.com/assets/colab-badge.svg\" alt=\"Open In Colab\"/></a>"
      ]
    },
    {
      "cell_type": "markdown",
      "source": [
        "# Program: double_until_100"
      ],
      "metadata": {
        "id": "iRWQk1QZTKwm"
      }
    },
    {
      "cell_type": "code",
      "source": [
        "import time   # ⏳ Importing time for delay effect\n",
        "\n",
        "def main():\n",
        "    \"\"\"🔢 A program that continuously doubles a number until it reaches 100 or more.\"\"\"\n",
        "    # 🎯 Get user input\n",
        "    curr_value = int(input(\"🔢 Enter a number to start doubling:\"))\n",
        "\n",
        "    print(\"\\n🚀 Doubling the number...\\n\")\n",
        "\n",
        "    # 🔄 Keep doubling until the value reaches 100 or more\n",
        "    while curr_value < 100:\n",
        "      curr_value *= 2 # ✅ Double the value\n",
        "      print(f\"➡️ {curr_value}\") # ✅ Print without decimals\n",
        "      time.sleep(1)   # ⏳ Pause for 1 second to show progression\n",
        "\n",
        "      print(\"\\n✅ The number has reached 100 or more! 🎉\")\n",
        "\n",
        "# Run the program\n",
        "if __name__ == \"__main__\":\n",
        "    main()\n"
      ],
      "metadata": {
        "colab": {
          "base_uri": "https://localhost:8080/"
        },
        "id": "1ocFiqFzTQYs",
        "outputId": "92505f57-bd17-49f0-adef-224c9c4104c6"
      },
      "execution_count": 1,
      "outputs": [
        {
          "output_type": "stream",
          "name": "stdout",
          "text": [
            "🔢 Enter a number to start doubling:4\n",
            "\n",
            "🚀 Doubling the number...\n",
            "\n",
            "➡️ 8\n",
            "\n",
            "✅ The number has reached 100 or more! 🎉\n",
            "➡️ 16\n",
            "\n",
            "✅ The number has reached 100 or more! 🎉\n",
            "➡️ 32\n",
            "\n",
            "✅ The number has reached 100 or more! 🎉\n",
            "➡️ 64\n",
            "\n",
            "✅ The number has reached 100 or more! 🎉\n",
            "➡️ 128\n",
            "\n",
            "✅ The number has reached 100 or more! 🎉\n"
          ]
        }
      ]
    }
  ]
}