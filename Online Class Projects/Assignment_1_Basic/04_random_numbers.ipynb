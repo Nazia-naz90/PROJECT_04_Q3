{
  "nbformat": 4,
  "nbformat_minor": 0,
  "metadata": {
    "colab": {
      "provenance": [],
      "authorship_tag": "ABX9TyM4DLiCaYm881GRZHEu1jCy",
      "include_colab_link": true
    },
    "kernelspec": {
      "name": "python3",
      "display_name": "Python 3"
    },
    "language_info": {
      "name": "python"
    }
  },
  "cells": [
    {
      "cell_type": "markdown",
      "metadata": {
        "id": "view-in-github",
        "colab_type": "text"
      },
      "source": [
        "<a href=\"https://colab.research.google.com/github/Nazia-naz90/PROJECT_04_BY_nAZIA/blob/main/04_random_numbers.ipynb\" target=\"_parent\"><img src=\"https://colab.research.google.com/assets/colab-badge.svg\" alt=\"Open In Colab\"/></a>"
      ]
    },
    {
      "cell_type": "markdown",
      "source": [],
      "metadata": {
        "id": "Uf6J6hCzhpfK"
      }
    },
    {
      "cell_type": "markdown",
      "source": [
        "# Program: random_numbers"
      ],
      "metadata": {
        "id": "pEwQ4TcGhrYt"
      }
    },
    {
      "cell_type": "code",
      "source": [
        "import random\n",
        "\n",
        "# Constants\n",
        "N_NUMBERS: int = 10  # ✅ Number of random numbers to generate\n",
        "MIN_VALUE: int = 1    # ✅ Minimum range value\n",
        "MAX_VALUE: int = 100  # ✅ Maximum range value\n",
        "\n",
        "def generate_random_number():\n",
        "    \"\"\" 🎯 Generates and prints 10 random numbers between 1 and 100. \"\"\"\n",
        "    random_numbers = [random.randint(MIN_VALUE,MAX_VALUE) for _ in range(N_NUMBERS)]\n",
        "    print(\" \".join(map(str,random_numbers)))  # ✅ Print numbers in a single line\n",
        "\n",
        "# Run the program\n",
        "if __name__ == \"__main__\":\n",
        "    print(\"\\n🔢 Generating 10 Random Numbers:\")\n",
        "    generate_random_number()\n"
      ],
      "metadata": {
        "colab": {
          "base_uri": "https://localhost:8080/"
        },
        "id": "UNcYLpMNh0v4",
        "outputId": "af8c3378-4f68-4e89-ccec-4dfc090c92cb"
      },
      "execution_count": 15,
      "outputs": [
        {
          "output_type": "stream",
          "name": "stdout",
          "text": [
            "\n",
            "🔢 Generating 10 Random Numbers:\n",
            "12 48 88 82 43 34 15 76 84 45\n"
          ]
        }
      ]
    }
  ]
}